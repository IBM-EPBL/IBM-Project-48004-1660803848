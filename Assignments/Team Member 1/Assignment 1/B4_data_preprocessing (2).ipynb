{
 "cells": [
  {
   "cell_type": "markdown",
   "id": "3fdf8470",
   "metadata": {},
   "source": [
    "# descriptive statistics "
   ]
  },
  {
   "cell_type": "code",
   "execution_count": 5,
   "id": "54e930a3",
   "metadata": {},
   "outputs": [],
   "source": [
    "import pandas as pd\n",
    "import numpy as np\n",
    "import matplotlib.pyplot as plt\n",
    "import seaborn as sns"
   ]
  },
  {
   "cell_type": "code",
   "execution_count": 6,
   "id": "06647763",
   "metadata": {},
   "outputs": [
    {
     "data": {
      "text/html": [
       "<div>\n",
       "<style scoped>\n",
       "    .dataframe tbody tr th:only-of-type {\n",
       "        vertical-align: middle;\n",
       "    }\n",
       "\n",
       "    .dataframe tbody tr th {\n",
       "        vertical-align: top;\n",
       "    }\n",
       "\n",
       "    .dataframe thead th {\n",
       "        text-align: right;\n",
       "    }\n",
       "</style>\n",
       "<table border=\"1\" class=\"dataframe\">\n",
       "  <thead>\n",
       "    <tr style=\"text-align: right;\">\n",
       "      <th></th>\n",
       "      <th>total_bill</th>\n",
       "      <th>tip</th>\n",
       "      <th>sex</th>\n",
       "      <th>smoker</th>\n",
       "      <th>day</th>\n",
       "      <th>time</th>\n",
       "      <th>size</th>\n",
       "    </tr>\n",
       "  </thead>\n",
       "  <tbody>\n",
       "    <tr>\n",
       "      <th>0</th>\n",
       "      <td>16.99</td>\n",
       "      <td>1.01</td>\n",
       "      <td>Female</td>\n",
       "      <td>No</td>\n",
       "      <td>Sun</td>\n",
       "      <td>Dinner</td>\n",
       "      <td>2</td>\n",
       "    </tr>\n",
       "    <tr>\n",
       "      <th>1</th>\n",
       "      <td>10.34</td>\n",
       "      <td>1.66</td>\n",
       "      <td>Male</td>\n",
       "      <td>No</td>\n",
       "      <td>Sun</td>\n",
       "      <td>Dinner</td>\n",
       "      <td>3</td>\n",
       "    </tr>\n",
       "    <tr>\n",
       "      <th>2</th>\n",
       "      <td>21.01</td>\n",
       "      <td>3.50</td>\n",
       "      <td>Male</td>\n",
       "      <td>No</td>\n",
       "      <td>Sun</td>\n",
       "      <td>Dinner</td>\n",
       "      <td>3</td>\n",
       "    </tr>\n",
       "    <tr>\n",
       "      <th>3</th>\n",
       "      <td>23.68</td>\n",
       "      <td>3.31</td>\n",
       "      <td>Male</td>\n",
       "      <td>No</td>\n",
       "      <td>Sun</td>\n",
       "      <td>Dinner</td>\n",
       "      <td>2</td>\n",
       "    </tr>\n",
       "    <tr>\n",
       "      <th>4</th>\n",
       "      <td>24.59</td>\n",
       "      <td>3.61</td>\n",
       "      <td>Female</td>\n",
       "      <td>No</td>\n",
       "      <td>Sun</td>\n",
       "      <td>Dinner</td>\n",
       "      <td>4</td>\n",
       "    </tr>\n",
       "  </tbody>\n",
       "</table>\n",
       "</div>"
      ],
      "text/plain": [
       "   total_bill   tip     sex smoker  day    time  size\n",
       "0       16.99  1.01  Female     No  Sun  Dinner     2\n",
       "1       10.34  1.66    Male     No  Sun  Dinner     3\n",
       "2       21.01  3.50    Male     No  Sun  Dinner     3\n",
       "3       23.68  3.31    Male     No  Sun  Dinner     2\n",
       "4       24.59  3.61  Female     No  Sun  Dinner     4"
      ]
     },
     "execution_count": 6,
     "metadata": {},
     "output_type": "execute_result"
    }
   ],
   "source": [
    "data=sns.load_dataset('tips')\n",
    "\n",
    "data.head()"
   ]
  },
  {
   "cell_type": "code",
   "execution_count": 7,
   "id": "6849ddb6",
   "metadata": {},
   "outputs": [
    {
     "data": {
      "text/html": [
       "<div>\n",
       "<style scoped>\n",
       "    .dataframe tbody tr th:only-of-type {\n",
       "        vertical-align: middle;\n",
       "    }\n",
       "\n",
       "    .dataframe tbody tr th {\n",
       "        vertical-align: top;\n",
       "    }\n",
       "\n",
       "    .dataframe thead th {\n",
       "        text-align: right;\n",
       "    }\n",
       "</style>\n",
       "<table border=\"1\" class=\"dataframe\">\n",
       "  <thead>\n",
       "    <tr style=\"text-align: right;\">\n",
       "      <th></th>\n",
       "      <th>total_bill</th>\n",
       "      <th>tip</th>\n",
       "      <th>sex</th>\n",
       "      <th>smoker</th>\n",
       "      <th>day</th>\n",
       "      <th>time</th>\n",
       "      <th>size</th>\n",
       "    </tr>\n",
       "  </thead>\n",
       "  <tbody>\n",
       "    <tr>\n",
       "      <th>239</th>\n",
       "      <td>29.03</td>\n",
       "      <td>5.92</td>\n",
       "      <td>Male</td>\n",
       "      <td>No</td>\n",
       "      <td>Sat</td>\n",
       "      <td>Dinner</td>\n",
       "      <td>3</td>\n",
       "    </tr>\n",
       "    <tr>\n",
       "      <th>240</th>\n",
       "      <td>27.18</td>\n",
       "      <td>2.00</td>\n",
       "      <td>Female</td>\n",
       "      <td>Yes</td>\n",
       "      <td>Sat</td>\n",
       "      <td>Dinner</td>\n",
       "      <td>2</td>\n",
       "    </tr>\n",
       "    <tr>\n",
       "      <th>241</th>\n",
       "      <td>22.67</td>\n",
       "      <td>2.00</td>\n",
       "      <td>Male</td>\n",
       "      <td>Yes</td>\n",
       "      <td>Sat</td>\n",
       "      <td>Dinner</td>\n",
       "      <td>2</td>\n",
       "    </tr>\n",
       "    <tr>\n",
       "      <th>242</th>\n",
       "      <td>17.82</td>\n",
       "      <td>1.75</td>\n",
       "      <td>Male</td>\n",
       "      <td>No</td>\n",
       "      <td>Sat</td>\n",
       "      <td>Dinner</td>\n",
       "      <td>2</td>\n",
       "    </tr>\n",
       "    <tr>\n",
       "      <th>243</th>\n",
       "      <td>18.78</td>\n",
       "      <td>3.00</td>\n",
       "      <td>Female</td>\n",
       "      <td>No</td>\n",
       "      <td>Thur</td>\n",
       "      <td>Dinner</td>\n",
       "      <td>2</td>\n",
       "    </tr>\n",
       "  </tbody>\n",
       "</table>\n",
       "</div>"
      ],
      "text/plain": [
       "     total_bill   tip     sex smoker   day    time  size\n",
       "239       29.03  5.92    Male     No   Sat  Dinner     3\n",
       "240       27.18  2.00  Female    Yes   Sat  Dinner     2\n",
       "241       22.67  2.00    Male    Yes   Sat  Dinner     2\n",
       "242       17.82  1.75    Male     No   Sat  Dinner     2\n",
       "243       18.78  3.00  Female     No  Thur  Dinner     2"
      ]
     },
     "execution_count": 7,
     "metadata": {},
     "output_type": "execute_result"
    }
   ],
   "source": [
    "data.tail()"
   ]
  },
  {
   "cell_type": "code",
   "execution_count": 8,
   "id": "e8f682bb",
   "metadata": {},
   "outputs": [
    {
     "name": "stdout",
     "output_type": "stream",
     "text": [
      "<class 'pandas.core.frame.DataFrame'>\n",
      "RangeIndex: 244 entries, 0 to 243\n",
      "Data columns (total 7 columns):\n",
      " #   Column      Non-Null Count  Dtype   \n",
      "---  ------      --------------  -----   \n",
      " 0   total_bill  244 non-null    float64 \n",
      " 1   tip         244 non-null    float64 \n",
      " 2   sex         244 non-null    category\n",
      " 3   smoker      244 non-null    category\n",
      " 4   day         244 non-null    category\n",
      " 5   time        244 non-null    category\n",
      " 6   size        244 non-null    int64   \n",
      "dtypes: category(4), float64(2), int64(1)\n",
      "memory usage: 7.4 KB\n"
     ]
    }
   ],
   "source": [
    "data.info()"
   ]
  },
  {
   "cell_type": "code",
   "execution_count": 9,
   "id": "7b484e61",
   "metadata": {},
   "outputs": [
    {
     "data": {
      "text/plain": [
       "(244, 7)"
      ]
     },
     "execution_count": 9,
     "metadata": {},
     "output_type": "execute_result"
    }
   ],
   "source": [
    "data.shape"
   ]
  },
  {
   "cell_type": "markdown",
   "id": "ee602a80",
   "metadata": {},
   "source": [
    "# measures of central tendency"
   ]
  },
  {
   "cell_type": "code",
   "execution_count": 10,
   "id": "7418599a",
   "metadata": {},
   "outputs": [
    {
     "data": {
      "text/plain": [
       "2.9982786885245902"
      ]
     },
     "execution_count": 10,
     "metadata": {},
     "output_type": "execute_result"
    }
   ],
   "source": [
    "#mean\n",
    "data['tip'].mean()"
   ]
  },
  {
   "cell_type": "code",
   "execution_count": 11,
   "id": "ccca422b",
   "metadata": {},
   "outputs": [
    {
     "data": {
      "text/plain": [
       "19.785942622950824"
      ]
     },
     "execution_count": 11,
     "metadata": {},
     "output_type": "execute_result"
    }
   ],
   "source": [
    "#\n",
    "data['total_bill'].mean()"
   ]
  },
  {
   "cell_type": "code",
   "execution_count": 12,
   "id": "a1644bba",
   "metadata": {},
   "outputs": [
    {
     "data": {
      "text/plain": [
       "2.569672131147541"
      ]
     },
     "execution_count": 12,
     "metadata": {},
     "output_type": "execute_result"
    }
   ],
   "source": [
    "data['size'].mean()"
   ]
  },
  {
   "cell_type": "code",
   "execution_count": 13,
   "id": "74c847d0",
   "metadata": {},
   "outputs": [],
   "source": [
    "import warnings\n",
    "warnings.filterwarnings('ignore')"
   ]
  },
  {
   "cell_type": "code",
   "execution_count": null,
   "id": "20864420",
   "metadata": {},
   "outputs": [],
   "source": []
  },
  {
   "cell_type": "code",
   "execution_count": 14,
   "id": "2c400b04",
   "metadata": {},
   "outputs": [
    {
     "data": {
      "text/plain": [
       "total_bill    19.785943\n",
       "tip            2.998279\n",
       "size           2.569672\n",
       "dtype: float64"
      ]
     },
     "execution_count": 14,
     "metadata": {},
     "output_type": "execute_result"
    }
   ],
   "source": [
    "#\n",
    "data.mean()"
   ]
  },
  {
   "cell_type": "code",
   "execution_count": 15,
   "id": "2c1117d8",
   "metadata": {},
   "outputs": [
    {
     "data": {
      "text/plain": [
       "total_bill    17.795\n",
       "tip            2.900\n",
       "size           2.000\n",
       "dtype: float64"
      ]
     },
     "execution_count": 15,
     "metadata": {},
     "output_type": "execute_result"
    }
   ],
   "source": [
    "#median\n",
    "data.median()"
   ]
  },
  {
   "cell_type": "code",
   "execution_count": 16,
   "id": "0b875150",
   "metadata": {},
   "outputs": [
    {
     "data": {
      "text/html": [
       "<div>\n",
       "<style scoped>\n",
       "    .dataframe tbody tr th:only-of-type {\n",
       "        vertical-align: middle;\n",
       "    }\n",
       "\n",
       "    .dataframe tbody tr th {\n",
       "        vertical-align: top;\n",
       "    }\n",
       "\n",
       "    .dataframe thead th {\n",
       "        text-align: right;\n",
       "    }\n",
       "</style>\n",
       "<table border=\"1\" class=\"dataframe\">\n",
       "  <thead>\n",
       "    <tr style=\"text-align: right;\">\n",
       "      <th></th>\n",
       "      <th>total_bill</th>\n",
       "      <th>tip</th>\n",
       "      <th>sex</th>\n",
       "      <th>smoker</th>\n",
       "      <th>day</th>\n",
       "      <th>time</th>\n",
       "      <th>size</th>\n",
       "    </tr>\n",
       "  </thead>\n",
       "  <tbody>\n",
       "    <tr>\n",
       "      <th>0</th>\n",
       "      <td>13.42</td>\n",
       "      <td>2.0</td>\n",
       "      <td>Male</td>\n",
       "      <td>No</td>\n",
       "      <td>Sat</td>\n",
       "      <td>Dinner</td>\n",
       "      <td>2</td>\n",
       "    </tr>\n",
       "  </tbody>\n",
       "</table>\n",
       "</div>"
      ],
      "text/plain": [
       "   total_bill  tip   sex smoker  day    time  size\n",
       "0       13.42  2.0  Male     No  Sat  Dinner     2"
      ]
     },
     "execution_count": 16,
     "metadata": {},
     "output_type": "execute_result"
    }
   ],
   "source": [
    "#mode\n",
    "data.mode()"
   ]
  },
  {
   "cell_type": "markdown",
   "id": "553a37bd",
   "metadata": {},
   "source": [
    "# skewness"
   ]
  },
  {
   "cell_type": "code",
   "execution_count": 17,
   "id": "6a9ec775",
   "metadata": {},
   "outputs": [
    {
     "data": {
      "text/plain": [
       "total_bill    1.133213\n",
       "tip           1.465451\n",
       "size          1.447882\n",
       "dtype: float64"
      ]
     },
     "execution_count": 17,
     "metadata": {},
     "output_type": "execute_result"
    }
   ],
   "source": [
    "#\n",
    "data.skew()"
   ]
  },
  {
   "cell_type": "code",
   "execution_count": 18,
   "id": "c9bbc5f4",
   "metadata": {},
   "outputs": [
    {
     "name": "stdout",
     "output_type": "stream",
     "text": [
      "AxesSubplot(0.125,0.125;0.775x0.755)\n",
      "AxesSubplot(0.125,0.125;0.775x0.755)\n"
     ]
    },
    {
     "data": {
      "text/plain": [
       "(None, None)"
      ]
     },
     "execution_count": 18,
     "metadata": {},
     "output_type": "execute_result"
    },
    {
     "data": {
      "image/png": "[encoded data removed]",
      "text/plain": [
       "<Figure size 432x288 with 1 Axes>"
      ]
     },
     "metadata": {
      "needs_background": "light"
     },
     "output_type": "display_data"
    }
   ],
   "source": [
    "#\n",
    "print(sns.distplot(data['tip'])),print(sns.distplot(data['tip'],kde=True,))"
   ]
  },
  {
   "cell_type": "code",
   "execution_count": 19,
   "id": "ebcf881f",
   "metadata": {},
   "outputs": [
    {
     "name": "stdout",
     "output_type": "stream",
     "text": [
      "AxesSubplot(0.125,0.125;0.775x0.755)\n",
      "AxesSubplot(0.125,0.125;0.775x0.755)\n"
     ]
    },
    {
     "data": {
      "text/plain": [
       "(None, None)"
      ]
     },
     "execution_count": 19,
     "metadata": {},
     "output_type": "execute_result"
    },
    {
     "data": {
      "image/png": "[encoded data removed]",
      "text/plain": [
       "<Figure size 432x288 with 1 Axes>"
      ]
     },
     "metadata": {
      "needs_background": "light"
     },
     "output_type": "display_data"
    }
   ],
   "source": [
    "#\n",
    "print(sns.distplot(data['size'])),print(sns.distplot(data['size'],kde=True,))"
   ]
  },
  {
   "cell_type": "code",
   "execution_count": 20,
   "id": "9d1cc5eb",
   "metadata": {},
   "outputs": [
    {
     "data": {
      "text/plain": [
       "total_bill    1.218484\n",
       "tip           3.648376\n",
       "size          1.731700\n",
       "dtype: float64"
      ]
     },
     "execution_count": 20,
     "metadata": {},
     "output_type": "execute_result"
    }
   ],
   "source": [
    "#kurtosis \n",
    "data.kurtosis()"
   ]
  },
  {
   "cell_type": "markdown",
   "id": "1118f1ca",
   "metadata": {},
   "source": [
    "# range"
   ]
  },
  {
   "cell_type": "code",
   "execution_count": 21,
   "id": "884f43cd",
   "metadata": {},
   "outputs": [
    {
     "data": {
      "text/plain": [
       "total_bill    50.81\n",
       "tip           10.00\n",
       "size           6.00\n",
       "dtype: float64"
      ]
     },
     "execution_count": 21,
     "metadata": {},
     "output_type": "execute_result"
    }
   ],
   "source": [
    "#max-min\n",
    "data.max()"
   ]
  },
  {
   "cell_type": "code",
   "execution_count": 22,
   "id": "334482f8",
   "metadata": {},
   "outputs": [
    {
     "data": {
      "text/plain": [
       "total_bill    3.07\n",
       "tip           1.00\n",
       "size          1.00\n",
       "dtype: float64"
      ]
     },
     "execution_count": 22,
     "metadata": {},
     "output_type": "execute_result"
    }
   ],
   "source": [
    "data.min()"
   ]
  },
  {
   "cell_type": "code",
   "execution_count": 23,
   "id": "ac2e3056",
   "metadata": {},
   "outputs": [
    {
     "data": {
      "text/plain": [
       "total_bill    47.74\n",
       "tip            9.00\n",
       "size           5.00\n",
       "dtype: float64"
      ]
     },
     "execution_count": 23,
     "metadata": {},
     "output_type": "execute_result"
    }
   ],
   "source": [
    "range=data.max()-data.min()\n",
    "\n",
    "range"
   ]
  },
  {
   "cell_type": "markdown",
   "id": "0265220c",
   "metadata": {},
   "source": [
    "# IQR"
   ]
  },
  {
   "cell_type": "code",
   "execution_count": 24,
   "id": "0dcf6351",
   "metadata": {},
   "outputs": [
    {
     "data": {
      "text/plain": [
       "0.75    3.5625\n",
       "0.25    2.0000\n",
       "Name: tip, dtype: float64"
      ]
     },
     "execution_count": 24,
     "metadata": {},
     "output_type": "execute_result"
    }
   ],
   "source": [
    "quantile=data['tip'].quantile(q=[0.75,0.25])\n",
    "\n",
    "quantile"
   ]
  },
  {
   "cell_type": "code",
   "execution_count": 25,
   "id": "9aa473a8",
   "metadata": {},
   "outputs": [
    {
     "data": {
      "text/html": [
       "<div>\n",
       "<style scoped>\n",
       "    .dataframe tbody tr th:only-of-type {\n",
       "        vertical-align: middle;\n",
       "    }\n",
       "\n",
       "    .dataframe tbody tr th {\n",
       "        vertical-align: top;\n",
       "    }\n",
       "\n",
       "    .dataframe thead th {\n",
       "        text-align: right;\n",
       "    }\n",
       "</style>\n",
       "<table border=\"1\" class=\"dataframe\">\n",
       "  <thead>\n",
       "    <tr style=\"text-align: right;\">\n",
       "      <th></th>\n",
       "      <th>total_bill</th>\n",
       "      <th>tip</th>\n",
       "      <th>size</th>\n",
       "    </tr>\n",
       "  </thead>\n",
       "  <tbody>\n",
       "    <tr>\n",
       "      <th>0.75</th>\n",
       "      <td>24.1275</td>\n",
       "      <td>3.5625</td>\n",
       "      <td>3.0</td>\n",
       "    </tr>\n",
       "    <tr>\n",
       "      <th>0.25</th>\n",
       "      <td>13.3475</td>\n",
       "      <td>2.0000</td>\n",
       "      <td>2.0</td>\n",
       "    </tr>\n",
       "  </tbody>\n",
       "</table>\n",
       "</div>"
      ],
      "text/plain": [
       "      total_bill     tip  size\n",
       "0.75     24.1275  3.5625   3.0\n",
       "0.25     13.3475  2.0000   2.0"
      ]
     },
     "execution_count": 25,
     "metadata": {},
     "output_type": "execute_result"
    }
   ],
   "source": [
    "#all daata sets cal\n",
    "quantile=data.quantile(q=[0.75,0.25])\n",
    "quantile"
   ]
  },
  {
   "cell_type": "code",
   "execution_count": 26,
   "id": "8ce5f285",
   "metadata": {},
   "outputs": [
    {
     "data": {
      "text/plain": [
       "total_bill    24.1275\n",
       "tip            3.5625\n",
       "size           3.0000\n",
       "Name: 0.75, dtype: float64"
      ]
     },
     "execution_count": 26,
     "metadata": {},
     "output_type": "execute_result"
    }
   ],
   "source": [
    "quantile.iloc[0]"
   ]
  },
  {
   "cell_type": "code",
   "execution_count": 27,
   "id": "ccccb3db",
   "metadata": {},
   "outputs": [
    {
     "data": {
      "text/plain": [
       "total_bill    13.3475\n",
       "tip            2.0000\n",
       "size           2.0000\n",
       "Name: 0.25, dtype: float64"
      ]
     },
     "execution_count": 27,
     "metadata": {},
     "output_type": "execute_result"
    }
   ],
   "source": [
    "quantile.iloc[1]"
   ]
  },
  {
   "cell_type": "code",
   "execution_count": 28,
   "id": "614a9ea8",
   "metadata": {},
   "outputs": [
    {
     "data": {
      "text/plain": [
       "total_bill    10.7800\n",
       "tip            1.5625\n",
       "size           1.0000\n",
       "dtype: float64"
      ]
     },
     "execution_count": 28,
     "metadata": {},
     "output_type": "execute_result"
    }
   ],
   "source": [
    "IQR=quantile.iloc[0]-quantile.iloc[1]\n",
    "\n",
    "IQR"
   ]
  },
  {
   "cell_type": "code",
   "execution_count": 29,
   "id": "c9cb2883",
   "metadata": {},
   "outputs": [
    {
     "data": {
      "text/plain": [
       "<AxesSubplot:xlabel='tip'>"
      ]
     },
     "execution_count": 29,
     "metadata": {},
     "output_type": "execute_result"
    },
    {
     "data": {
      "image/png": "[encoded data removed]",
      "text/plain": [
       "<Figure size 432x288 with 1 Axes>"
      ]
     },
     "metadata": {
      "needs_background": "light"
     },
     "output_type": "display_data"
    }
   ],
   "source": [
    "sns.boxplot(data['tip'])"
   ]
  },
  {
   "cell_type": "code",
   "execution_count": 30,
   "id": "e316aac3",
   "metadata": {},
   "outputs": [
    {
     "data": {
      "text/plain": [
       "total_bill    40.29750\n",
       "tip            5.90625\n",
       "size           4.50000\n",
       "dtype: float64"
      ]
     },
     "execution_count": 30,
     "metadata": {},
     "output_type": "execute_result"
    }
   ],
   "source": [
    "#upper_extreme q3+1.5(IQR)\n",
    "\n",
    "upper_extreme=quantile.iloc[0]+(1.5*IQR)\n",
    "\n",
    "upper_extreme"
   ]
  },
  {
   "cell_type": "code",
   "execution_count": 31,
   "id": "3f7003b8",
   "metadata": {},
   "outputs": [
    {
     "data": {
      "text/plain": [
       "total_bill   -2.82250\n",
       "tip          -0.34375\n",
       "size          0.50000\n",
       "dtype: float64"
      ]
     },
     "execution_count": 31,
     "metadata": {},
     "output_type": "execute_result"
    }
   ],
   "source": [
    "#lower_extreme q1-1.5(IQR)\n",
    "lower_extreme=quantile.iloc[1]-(1.5*IQR)\n",
    "lower_extreme"
   ]
  },
  {
   "cell_type": "code",
   "execution_count": 32,
   "id": "4b0f15e2",
   "metadata": {},
   "outputs": [
    {
     "data": {
      "text/plain": [
       "total_bill    79.252939\n",
       "tip            1.914455\n",
       "size           0.904591\n",
       "dtype: float64"
      ]
     },
     "execution_count": 32,
     "metadata": {},
     "output_type": "execute_result"
    }
   ],
   "source": [
    "#variance\n",
    "\n",
    "data.var()"
   ]
  },
  {
   "cell_type": "code",
   "execution_count": 33,
   "id": "bfb48641",
   "metadata": {},
   "outputs": [
    {
     "data": {
      "text/plain": [
       "total_bill    8.902412\n",
       "tip           1.383638\n",
       "size          0.951100\n",
       "dtype: float64"
      ]
     },
     "execution_count": 33,
     "metadata": {},
     "output_type": "execute_result"
    }
   ],
   "source": [
    "#standard deviation\n",
    "data.std()"
   ]
  },
  {
   "cell_type": "markdown",
   "id": "986dd350",
   "metadata": {},
   "source": [
    "# Population and sample"
   ]
  },
  {
   "cell_type": "code",
   "execution_count": 34,
   "id": "08eb00ca",
   "metadata": {},
   "outputs": [],
   "source": [
    "N=10000\n",
    "mu=10\n",
    "std=2"
   ]
  },
  {
   "cell_type": "code",
   "execution_count": 35,
   "id": "529c2d10",
   "metadata": {},
   "outputs": [
    {
     "data": {
      "text/plain": [
       "array([ 8.44947142, 11.1798775 , 13.50597792, ..., 11.5578026 ,\n",
       "       10.36790622,  6.32231298])"
      ]
     },
     "execution_count": 35,
     "metadata": {},
     "output_type": "execute_result"
    }
   ],
   "source": [
    "pop_df=np.random.normal(mu,std,N)\n",
    "\n",
    "pop_df"
   ]
  },
  {
   "cell_type": "code",
   "execution_count": 36,
   "id": "c424e08a",
   "metadata": {},
   "outputs": [
    {
     "data": {
      "text/plain": [
       "<AxesSubplot:ylabel='Density'>"
      ]
     },
     "execution_count": 36,
     "metadata": {},
     "output_type": "execute_result"
    },
    {
     "data": {
      "image/png": "[encoded data removed]",
      "text/plain": [
       "<Figure size 432x288 with 1 Axes>"
      ]
     },
     "metadata": {
      "needs_background": "light"
     },
     "output_type": "display_data"
    }
   ],
   "source": [
    "sns.distplot(pop_df)"
   ]
  },
  {
   "cell_type": "markdown",
   "id": "065cf898",
   "metadata": {},
   "source": [
    "# Scaling"
   ]
  },
  {
   "cell_type": "code",
   "execution_count": 37,
   "id": "ce9c55f9",
   "metadata": {},
   "outputs": [
    {
     "data": {
      "text/html": [
       "<div>\n",
       "<style scoped>\n",
       "    .dataframe tbody tr th:only-of-type {\n",
       "        vertical-align: middle;\n",
       "    }\n",
       "\n",
       "    .dataframe tbody tr th {\n",
       "        vertical-align: top;\n",
       "    }\n",
       "\n",
       "    .dataframe thead th {\n",
       "        text-align: right;\n",
       "    }\n",
       "</style>\n",
       "<table border=\"1\" class=\"dataframe\">\n",
       "  <thead>\n",
       "    <tr style=\"text-align: right;\">\n",
       "      <th></th>\n",
       "      <th>total_bill</th>\n",
       "      <th>tip</th>\n",
       "    </tr>\n",
       "  </thead>\n",
       "  <tbody>\n",
       "    <tr>\n",
       "      <th>0</th>\n",
       "      <td>16.99</td>\n",
       "      <td>1.01</td>\n",
       "    </tr>\n",
       "    <tr>\n",
       "      <th>1</th>\n",
       "      <td>10.34</td>\n",
       "      <td>1.66</td>\n",
       "    </tr>\n",
       "    <tr>\n",
       "      <th>2</th>\n",
       "      <td>21.01</td>\n",
       "      <td>3.50</td>\n",
       "    </tr>\n",
       "    <tr>\n",
       "      <th>3</th>\n",
       "      <td>23.68</td>\n",
       "      <td>3.31</td>\n",
       "    </tr>\n",
       "    <tr>\n",
       "      <th>4</th>\n",
       "      <td>24.59</td>\n",
       "      <td>3.61</td>\n",
       "    </tr>\n",
       "  </tbody>\n",
       "</table>\n",
       "</div>"
      ],
      "text/plain": [
       "   total_bill   tip\n",
       "0       16.99  1.01\n",
       "1       10.34  1.66\n",
       "2       21.01  3.50\n",
       "3       23.68  3.31\n",
       "4       24.59  3.61"
      ]
     },
     "execution_count": 37,
     "metadata": {},
     "output_type": "execute_result"
    }
   ],
   "source": [
    "x=data[['total_bill','tip']]\n",
    "x.head()"
   ]
  },
  {
   "cell_type": "code",
   "execution_count": 38,
   "id": "2750bdea",
   "metadata": {},
   "outputs": [],
   "source": [
    "from sklearn.preprocessing import StandardScaler"
   ]
  },
  {
   "cell_type": "code",
   "execution_count": 39,
   "id": "f220aa3a",
   "metadata": {},
   "outputs": [],
   "source": [
    "scale=StandardScaler()"
   ]
  },
  {
   "cell_type": "code",
   "execution_count": 40,
   "id": "85284839",
   "metadata": {},
   "outputs": [],
   "source": [
    "st_scale=scale.fit_transform(x)"
   ]
  },
  {
   "cell_type": "code",
   "execution_count": 41,
   "id": "87ea9251",
   "metadata": {},
   "outputs": [
    {
     "data": {
      "text/plain": [
       "array([[-3.14711305e-01, -1.43994695e+00],\n",
       "       [-1.06323531e+00, -9.69205340e-01],\n",
       "       [ 1.37779900e-01,  3.63355539e-01],\n",
       "       [ 4.38315103e-01,  2.25754144e-01],\n",
       "       [ 5.40744704e-01,  4.43019505e-01],\n",
       "       [ 6.19536705e-01,  1.23965916e+00],\n",
       "       [-1.23995452e+00, -7.22971264e-01],\n",
       "       [ 7.98507107e-01,  8.81527488e-02],\n",
       "       [-5.34203307e-01, -7.51939979e-01],\n",
       "       [-5.63468908e-01,  1.67816714e-01],\n",
       "       [-1.07111451e+00, -9.32994446e-01],\n",
       "       [ 1.74175992e+00,  1.44968234e+00],\n",
       "       [-4.91430507e-01, -1.03438495e+00],\n",
       "       [-1.52624903e-01,  1.24660453e-03],\n",
       "       [-5.57840908e-01,  1.57309619e-02],\n",
       "       [ 2.01939101e-01,  6.67527044e-01],\n",
       "       [-1.06436091e+00, -9.61963161e-01],\n",
       "       [-3.93503306e-01,  5.15441291e-01],\n",
       "       [-3.16962505e-01,  3.63355539e-01],\n",
       "       [ 9.72582994e-02,  2.54722859e-01],\n",
       "       [-2.10030504e-01,  7.83401903e-01],\n",
       "       [ 5.67366990e-02, -1.79807863e-01],\n",
       "       [-4.52034507e-01, -5.56401155e-01],\n",
       "       [ 2.21000952e+00,  3.31816444e+00],\n",
       "       [ 3.83349840e-03,  1.31605821e-01],\n",
       "       [-2.22412104e-01, -4.76737189e-01],\n",
       "       [-7.22178510e-01, -7.22971264e-01],\n",
       "       [-7.98719310e-01, -7.22971264e-01],\n",
       "       [ 2.15446301e-01,  9.42729834e-01],\n",
       "       [-1.53017018e-02,  1.24660453e-03],\n",
       "       [-1.15215771e+00, -1.12129109e+00],\n",
       "       [-1.61629703e-01, -3.60862330e-01],\n",
       "       [-5.31952107e-01,  1.24660453e-03],\n",
       "       [ 1.01760699e-01, -3.97073223e-01],\n",
       "       [-2.25788904e-01,  1.96785429e-01],\n",
       "       [ 4.81087904e-01,  4.35777326e-01],\n",
       "       [-3.91252106e-01, -7.22971264e-01],\n",
       "       [-3.21464905e-01,  5.19418554e-02],\n",
       "       [-1.23359303e-01, -4.98463725e-01],\n",
       "       [ 1.29264551e+00,  1.44968234e+00],\n",
       "       [-4.21643306e-01, -5.49158976e-01],\n",
       "       [-2.61808105e-01, -3.31893615e-01],\n",
       "       [-6.58019309e-01,  4.46996767e-02],\n",
       "       [-1.13752491e+00, -1.21543942e+00],\n",
       "       [ 1.19471831e+00,  1.88421306e+00],\n",
       "       [-1.68383303e-01,  1.24660453e-03],\n",
       "       [ 2.75103101e-01,  1.44968234e+00],\n",
       "       [ 1.41983831e+00,  2.17390021e+00],\n",
       "       [ 9.86482309e-01, -6.86760371e-01],\n",
       "       [-1.96523304e-01,  1.24660453e-03],\n",
       "       [-8.15603311e-01, -3.60862330e-01],\n",
       "       [-1.06886331e+00, -2.88440543e-01],\n",
       "       [ 1.69110792e+00,  1.59452592e+00],\n",
       "       [-1.10825931e+00, -1.04162713e+00],\n",
       "       [ 6.49927905e-01,  9.71698549e-01],\n",
       "       [-3.33113020e-02,  3.70597718e-01],\n",
       "       [ 2.05129992e+00,  1.24660453e-03],\n",
       "       [ 7.45603907e-01, -1.08508020e+00],\n",
       "       [-9.61931312e-01, -8.96783553e-01],\n",
       "       [ 3.20616553e+00,  2.70257926e+00],\n",
       "       [ 5.67366990e-02,  1.53332357e-01],\n",
       "       [-6.72652109e-01, -7.22971264e-01],\n",
       "       [-9.86694512e-01, -7.37455622e-01],\n",
       "       [-1.68383303e-01,  5.51652185e-01],\n",
       "       [-2.47175304e-01, -2.59471828e-01],\n",
       "       [ 3.30990987e-02,  1.09879285e-01],\n",
       "       [-3.75493706e-01, -3.82588866e-01],\n",
       "       [-1.88154652e+00, -1.44718913e+00],\n",
       "       [ 4.99830989e-02, -7.15729086e-01],\n",
       "       [-5.37580108e-01, -6.57791656e-01],\n",
       "       [-8.74134511e-01, -7.44697800e-01],\n",
       "       [-3.05706505e-01,  1.24660453e-03],\n",
       "       [ 7.96255907e-01,  1.02637106e-01],\n",
       "       [ 6.18411105e-01,  1.44968234e+00],\n",
       "       [-5.69096908e-01, -5.78127691e-01],\n",
       "       [-1.04410011e+00, -1.26613467e+00],\n",
       "       [-2.10030504e-01,  5.91840340e-02],\n",
       "       [ 8.34526308e-01,  7.25464473e-01],\n",
       "       [ 3.34759902e-01,  1.24660453e-03],\n",
       "       [-2.80943305e-01, -2.08776577e-01],\n",
       "       [-3.89393021e-02,  1.24660453e-03],\n",
       "       [-3.51856105e-01,  2.90933752e-01],\n",
       "       [-1.09362651e+00, -8.46088302e-01],\n",
       "       [ 1.45135511e+00,  1.44968234e+00],\n",
       "       [-4.28396906e-01, -7.01244728e-01],\n",
       "       [ 1.69335912e+00,  1.57279938e+00],\n",
       "       [-7.60448910e-01, -7.22971264e-01],\n",
       "       [-1.69508903e-01,  7.25464473e-01],\n",
       "       [ 5.54251904e-01,  2.06526753e+00],\n",
       "       [ 1.54663900e-01,  1.24660453e-03],\n",
       "       [ 1.03375751e+00,  1.24660453e-03],\n",
       "       [ 3.04368702e-01,  3.63355539e-01],\n",
       "       [-1.57988572e+00, -1.44718913e+00],\n",
       "       [-3.90126506e-01,  9.42729834e-01],\n",
       "       [ 3.33634302e-01,  1.82301072e-01],\n",
       "       [ 2.29442952e+00,  1.25414352e+00],\n",
       "       [ 8.43531108e-01,  7.25464473e-01],\n",
       "       [-8.73008911e-01, -1.08508020e+00],\n",
       "       [ 1.37779900e-01,  1.24660453e-03],\n",
       "       [-8.24608111e-01, -1.08508020e+00],\n",
       "       [-9.49549712e-01, -3.60862330e-01],\n",
       "       [-4.95932907e-01,  1.24660453e-03],\n",
       "       [ 2.75930233e+00, -3.60862330e-01],\n",
       "       [ 2.96489502e-01,  3.48871182e-01],\n",
       "       [ 1.27649500e-01,  7.83401903e-01],\n",
       "       [-4.98184107e-01, -9.83689697e-01],\n",
       "       [ 7.92486992e-02,  7.68917546e-01],\n",
       "       [ 6.10531905e-01,  9.35487655e-01],\n",
       "       [-1.74011304e-01,  5.51652185e-01],\n",
       "       [-6.16372108e-01,  7.25464473e-01],\n",
       "       [-6.51265709e-01,  1.24660453e-03],\n",
       "       [-1.41104572e+00, -1.44718913e+00],\n",
       "       [ 2.05805352e+00,  7.25464473e-01],\n",
       "       [ 4.68706304e-01, -3.24651436e-01],\n",
       "       [ 6.66811906e-01,  7.25464473e-01],\n",
       "       [-2.78692105e-01,  3.63355539e-01],\n",
       "       [ 1.14181511e+00,  1.50037759e+00],\n",
       "       [-1.02834171e+00, -1.08508020e+00],\n",
       "       [-8.27984911e-01, -8.67814838e-01],\n",
       "       [ 4.83339104e-01, -5.66908250e-02],\n",
       "       [-9.11279312e-01, -4.98463725e-01],\n",
       "       [-7.16550509e-01, -9.54720982e-01],\n",
       "       [-6.22000108e-01, -3.60862330e-01],\n",
       "       [-4.31773706e-01, -7.22971264e-01],\n",
       "       [-8.22356911e-01, -3.46377973e-01],\n",
       "       [ 1.12718231e+00,  8.70308047e-01],\n",
       "       [-1.26809452e+00, -1.09956456e+00],\n",
       "       [-5.92734508e-01, -7.22971264e-01],\n",
       "       [-9.46172912e-01, -7.22971264e-01],\n",
       "       [ 3.41513502e-01, -5.92612048e-01],\n",
       "       [-7.94609025e-02, -1.08508020e+00],\n",
       "       [ 5.44854990e-02, -1.21870433e-01],\n",
       "       [-9.69810512e-01, -1.08508020e+00],\n",
       "       [-8.47120111e-01, -7.22971264e-01],\n",
       "       [-1.71760104e-01,  1.82301072e-01],\n",
       "       [-1.26922012e+00, -1.26613467e+00],\n",
       "       [-1.06436091e+00, -7.22971264e-01],\n",
       "       [-6.34381709e-01, -7.22971264e-01],\n",
       "       [-4.26145706e-01, -7.22971264e-01],\n",
       "       [-7.45816110e-01, -1.79807863e-01],\n",
       "       [-2.60682504e-01,  3.63355539e-01],\n",
       "       [ 1.63370232e+00,  2.68085272e+00],\n",
       "       [ 2.40924072e+00,  1.44968234e+00],\n",
       "       [ 8.17642307e-01,  1.44968234e+00],\n",
       "       [-3.77744906e-01, -5.05705904e-01],\n",
       "       [-1.28722972e+00, -1.08508020e+00],\n",
       "       [-1.28987303e-01, -1.18647070e+00],\n",
       "       [-8.91018511e-01, -9.90931876e-01],\n",
       "       [-1.12626891e+00, -9.18510089e-01],\n",
       "       [-1.38178012e+00, -7.22971264e-01],\n",
       "       [-6.43386509e-01, -3.60862330e-01],\n",
       "       [-7.49192910e-01, -7.22971264e-01],\n",
       "       [-2.84320105e-01, -1.87050041e-01],\n",
       "       [ 5.36242304e-01, -7.22971264e-01],\n",
       "       [-1.79450166e-03, -7.22971264e-01],\n",
       "       [ 1.13281031e+00,  1.55107284e+00],\n",
       "       [ 3.19490953e+00,  1.44968234e+00],\n",
       "       [ 5.86894305e-01,  5.44410006e-01],\n",
       "       [-7.19927310e-01, -2.81198364e-01],\n",
       "       [-3.70991306e-01, -7.22971264e-01],\n",
       "       [ 1.92934300e-01,  3.63355539e-01],\n",
       "       [-8.02096110e-01, -3.60862330e-01],\n",
       "       [-4.02508106e-01, -7.22971264e-01],\n",
       "       [-6.72652109e-01, -7.22971264e-01],\n",
       "       [-2.56180104e-01,  1.24660453e-03],\n",
       "       [ 5.32865504e-01,  3.48871182e-01],\n",
       "       [ 1.09639900e-01, -5.49158976e-01],\n",
       "       [ 1.34217191e+00,  1.08757341e+00],\n",
       "       [-1.03509531e+00, -1.00541623e+00],\n",
       "       [-1.03059291e+00, -7.22971264e-01],\n",
       "       [ 3.49206794e+00,  5.07077169e+00],\n",
       "       [-4.47532107e-01,  1.17121464e-01],\n",
       "       [-1.41104572e+00,  1.55831502e+00],\n",
       "       [ 1.35793031e+00,  1.31605821e-01],\n",
       "       [-3.33846505e-01,  7.25464473e-01],\n",
       "       [ 1.47611831e+00,  8.09105701e-02],\n",
       "       [-2.13407304e-01, -7.22971264e-01],\n",
       "       [-5.97236908e-01, -7.22971264e-01],\n",
       "       [-1.14652971e+00,  7.25464473e-01],\n",
       "       [ 1.67084712e+00,  3.99566432e-01],\n",
       "       [ 1.67309832e+00,  4.93714755e-01],\n",
       "       [ 3.98919103e-01,  1.92042396e+00],\n",
       "       [ 2.87749033e+00,  3.63355539e-01],\n",
       "       [ 3.80909503e-01,  2.53600915e+00],\n",
       "       [ 2.33720232e+00,  1.24660453e-03],\n",
       "       [ 1.01760699e-01,  1.44968234e+00],\n",
       "       [ 1.25398300e-01,  3.63355539e-01],\n",
       "       [ 1.20147191e+00, -7.22971264e-01],\n",
       "       [-1.84141704e-01,  3.63355539e-01],\n",
       "       [ 3.73030302e-01,  7.25464473e-01],\n",
       "       [-4.61039307e-01, -1.08508020e+00],\n",
       "       [ 2.70789839e-03,  8.63065869e-01],\n",
       "       [ 9.74100709e-01, -3.17409258e-01],\n",
       "       [-4.84676907e-01, -7.08486907e-01],\n",
       "       [-3.60860906e-01,  7.25464473e-01],\n",
       "       [-1.37615212e+00, -1.12853327e+00],\n",
       "       [-1.06323531e+00, -7.22971264e-01],\n",
       "       [ 2.62535593e+00,  1.44968234e+00],\n",
       "       [-7.63825710e-01, -7.22971264e-01],\n",
       "       [-7.06420109e-01, -7.22971264e-01],\n",
       "       [-1.21108103e-01,  7.25464473e-01],\n",
       "       [-7.93091310e-01, -7.15729086e-01],\n",
       "       [-7.63825710e-01, -7.22971264e-01],\n",
       "       [-3.81121706e-01, -3.60862330e-01],\n",
       "       [ 8.37510993e-02,  7.25464473e-01],\n",
       "       [-3.73242506e-01,  1.67816714e-01],\n",
       "       [ 7.65864707e-01,  2.98175931e-01],\n",
       "       [ 2.13234312e+00,  1.24660453e-03],\n",
       "       [ 5.04725504e-01, -7.01244728e-01],\n",
       "       [-7.90840110e-01, -5.56401155e-01],\n",
       "       [ 1.15644791e+00, -7.22971264e-01],\n",
       "       [ 6.87072706e-01,  1.56555720e+00],\n",
       "       [ 3.21291913e+00,  4.34655382e+00],\n",
       "       [-7.33434510e-01, -3.60862330e-01],\n",
       "       [ 9.43709509e-01,  2.53600915e+00],\n",
       "       [-7.75081710e-01, -1.37476735e+00],\n",
       "       [ 9.41458309e-01,  1.24660453e-03],\n",
       "       [-9.22535312e-01, -1.08508020e+00],\n",
       "       [-1.35589132e+00, -1.12853327e+00],\n",
       "       [ 1.16545271e+00,  6.64262127e-02],\n",
       "       [-8.58376111e-01, -5.78127691e-01],\n",
       "       [-7.16550509e-01,  3.48871182e-01],\n",
       "       [-1.26134092e+00, -7.80908694e-01],\n",
       "       [-4.28396906e-01,  1.24660453e-03],\n",
       "       [-7.16550509e-01, -1.02714277e+00],\n",
       "       [-3.95754506e-01, -3.60862330e-01],\n",
       "       [-1.09137531e+00, -7.22971264e-01],\n",
       "       [ 7.47462992e-02,  1.24660453e-03],\n",
       "       [-7.32308910e-01, -2.01534399e-01],\n",
       "       [ 2.62721501e-01, -8.56595397e-02],\n",
       "       [ 4.75459904e-01, -7.22971264e-01],\n",
       "       [-4.61039307e-01,  1.24660453e-03],\n",
       "       [-9.20284112e-01,  2.83691573e-01],\n",
       "       [-1.01483451e+00, -1.10680673e+00],\n",
       "       [-4.79048907e-01,  1.24660453e-03],\n",
       "       [-1.09362651e+00, -1.26613467e+00],\n",
       "       [-8.08849711e-01, -1.44718913e+00],\n",
       "       [ 1.46823911e+00, -1.32407210e+00],\n",
       "       [ 1.80591912e+00,  1.21069045e+00],\n",
       "       [ 1.04051111e+00,  2.11596278e+00],\n",
       "       [ 8.32275107e-01, -7.22971264e-01],\n",
       "       [ 3.24629502e-01, -7.22971264e-01],\n",
       "       [-2.21286504e-01, -9.04025732e-01],\n",
       "       [-1.13228903e-01,  1.24660453e-03]])"
      ]
     },
     "execution_count": 41,
     "metadata": {},
     "output_type": "execute_result"
    }
   ],
   "source": [
    "st_scale"
   ]
  },
  {
   "cell_type": "markdown",
   "id": "349c2a57",
   "metadata": {},
   "source": [
    "# normalization"
   ]
  },
  {
   "cell_type": "code",
   "execution_count": 42,
   "id": "931d50df",
   "metadata": {},
   "outputs": [],
   "source": [
    "from sklearn.preprocessing import MinMaxScaler"
   ]
  },
  {
   "cell_type": "code",
   "execution_count": 43,
   "id": "6862e106",
   "metadata": {},
   "outputs": [],
   "source": [
    "min_max=MinMaxScaler(feature_range=(0,1))"
   ]
  },
  {
   "cell_type": "code",
   "execution_count": 44,
   "id": "e54830ad",
   "metadata": {},
   "outputs": [],
   "source": [
    "norm=min_max.fit_transform(x)"
   ]
  },
  {
   "cell_type": "code",
   "execution_count": 45,
   "id": "21ab5bf2",
   "metadata": {},
   "outputs": [
    {
     "data": {
      "text/plain": [
       "array([[0.29157939, 0.00111111],\n",
       "       [0.1522832 , 0.07333333],\n",
       "       [0.3757855 , 0.27777778],\n",
       "       [0.43171345, 0.25666667],\n",
       "       [0.45077503, 0.29      ],\n",
       "       [0.46543779, 0.41222222],\n",
       "       [0.11939673, 0.11111111],\n",
       "       [0.49874319, 0.23555556],\n",
       "       [0.25073314, 0.10666667],\n",
       "       [0.24528697, 0.24777778],\n",
       "       [0.15081693, 0.07888889],\n",
       "       [0.67427734, 0.44444444],\n",
       "       [0.25869292, 0.06333333],\n",
       "       [0.32174277, 0.22222222],\n",
       "       [0.24633431, 0.22444444],\n",
       "       [0.38772518, 0.32444444],\n",
       "       [0.15207373, 0.07444444],\n",
       "       [0.27691663, 0.30111111],\n",
       "       [0.29116045, 0.27777778],\n",
       "       [0.36824466, 0.26111111],\n",
       "       [0.31105991, 0.34222222],\n",
       "       [0.36070381, 0.19444444],\n",
       "       [0.2660243 , 0.13666667],\n",
       "       [0.761416  , 0.73111111],\n",
       "       [0.35085882, 0.24222222],\n",
       "       [0.30875576, 0.14888889],\n",
       "       [0.21575199, 0.11111111],\n",
       "       [0.20150817, 0.11111111],\n",
       "       [0.39023879, 0.36666667],\n",
       "       [0.34729786, 0.22222222],\n",
       "       [0.13573523, 0.05      ],\n",
       "       [0.32006703, 0.16666667],\n",
       "       [0.25115207, 0.22222222],\n",
       "       [0.36908253, 0.16111111],\n",
       "       [0.30812736, 0.25222222],\n",
       "       [0.43967323, 0.28888889],\n",
       "       [0.27733557, 0.11111111],\n",
       "       [0.29032258, 0.23      ],\n",
       "       [0.32718894, 0.14555556],\n",
       "       [0.59069962, 0.44444444],\n",
       "       [0.27167993, 0.13777778],\n",
       "       [0.30142438, 0.17111111],\n",
       "       [0.22769166, 0.22888889],\n",
       "       [0.13845832, 0.03555556],\n",
       "       [0.57247591, 0.51111111],\n",
       "       [0.31881022, 0.22222222],\n",
       "       [0.40134059, 0.44444444],\n",
       "       [0.6143695 , 0.55555556],\n",
       "       [0.53372434, 0.11666667],\n",
       "       [0.31357352, 0.22222222],\n",
       "       [0.19836615, 0.16666667],\n",
       "       [0.15123586, 0.17777778],\n",
       "       [0.66485128, 0.46666667],\n",
       "       [0.14390448, 0.06222222],\n",
       "       [0.47109342, 0.37111111],\n",
       "       [0.34394638, 0.27888889],\n",
       "       [0.73188102, 0.22222222],\n",
       "       [0.4888982 , 0.05555556],\n",
       "       [0.17113532, 0.08444444],\n",
       "       [0.94679514, 0.63666667],\n",
       "       [0.36070381, 0.24555556],\n",
       "       [0.22496858, 0.11111111],\n",
       "       [0.16652702, 0.10888889],\n",
       "       [0.31881022, 0.30666667],\n",
       "       [0.30414747, 0.18222222],\n",
       "       [0.35630499, 0.23888889],\n",
       "       [0.28026812, 0.16333333],\n",
       "       [0.        , 0.        ],\n",
       "       [0.359447  , 0.11222222],\n",
       "       [0.25010473, 0.12111111],\n",
       "       [0.18747382, 0.10777778],\n",
       "       [0.29325513, 0.22222222],\n",
       "       [0.49832426, 0.23777778],\n",
       "       [0.46522832, 0.44444444],\n",
       "       [0.24423963, 0.13333333],\n",
       "       [0.15584416, 0.02777778],\n",
       "       [0.31105991, 0.23111111],\n",
       "       [0.50544617, 0.33333333],\n",
       "       [0.4124424 , 0.22222222],\n",
       "       [0.29786343, 0.19      ],\n",
       "       [0.34289904, 0.22222222],\n",
       "       [0.28466695, 0.26666667],\n",
       "       [0.14662757, 0.09222222],\n",
       "       [0.6202346 , 0.44444444],\n",
       "       [0.27042313, 0.11444444],\n",
       "       [0.66527021, 0.46333333],\n",
       "       [0.20863008, 0.11111111],\n",
       "       [0.31860075, 0.33333333],\n",
       "       [0.45328865, 0.53888889],\n",
       "       [0.37892752, 0.22222222],\n",
       "       [0.54252199, 0.22222222],\n",
       "       [0.40678676, 0.27777778],\n",
       "       [0.05613741, 0.        ],\n",
       "       [0.27754504, 0.36666667],\n",
       "       [0.41223293, 0.25      ],\n",
       "       [0.7771261 , 0.41444444],\n",
       "       [0.50712191, 0.33333333],\n",
       "       [0.18768328, 0.05555556],\n",
       "       [0.3757855 , 0.22222222],\n",
       "       [0.19669041, 0.05555556],\n",
       "       [0.17343946, 0.16666667],\n",
       "       [0.25785505, 0.22222222],\n",
       "       [0.86363636, 0.16666667],\n",
       "       [0.40532049, 0.27555556],\n",
       "       [0.37390029, 0.34222222],\n",
       "       [0.25743611, 0.07111111],\n",
       "       [0.36489317, 0.34      ],\n",
       "       [0.46376204, 0.36555556],\n",
       "       [0.31776288, 0.30666667],\n",
       "       [0.23544198, 0.33333333],\n",
       "       [0.22894847, 0.22222222],\n",
       "       [0.0875576 , 0.        ],\n",
       "       [0.73313783, 0.33333333],\n",
       "       [0.43736908, 0.17222222],\n",
       "       [0.47423544, 0.33333333],\n",
       "       [0.29828236, 0.27777778],\n",
       "       [0.56263092, 0.45222222],\n",
       "       [0.15877671, 0.05555556],\n",
       "       [0.196062  , 0.08888889],\n",
       "       [0.44009217, 0.21333333],\n",
       "       [0.18056137, 0.14555556],\n",
       "       [0.21679933, 0.07555556],\n",
       "       [0.23439464, 0.16666667],\n",
       "       [0.26979472, 0.11111111],\n",
       "       [0.19710934, 0.16888889],\n",
       "       [0.55990783, 0.35555556],\n",
       "       [0.11416003, 0.05333333],\n",
       "       [0.2398408 , 0.11111111],\n",
       "       [0.17406787, 0.11111111],\n",
       "       [0.4136992 , 0.13111111],\n",
       "       [0.33535819, 0.05555556],\n",
       "       [0.36028488, 0.20333333],\n",
       "       [0.16966904, 0.05555556],\n",
       "       [0.19250105, 0.11111111],\n",
       "       [0.31818182, 0.25      ],\n",
       "       [0.11395057, 0.02777778],\n",
       "       [0.15207373, 0.11111111],\n",
       "       [0.23209049, 0.11111111],\n",
       "       [0.27084206, 0.11111111],\n",
       "       [0.21135316, 0.19444444],\n",
       "       [0.30163385, 0.27777778],\n",
       "       [0.65416841, 0.63333333],\n",
       "       [0.79849183, 0.44444444],\n",
       "       [0.50230415, 0.44444444],\n",
       "       [0.27984918, 0.14444444],\n",
       "       [0.11059908, 0.05555556],\n",
       "       [0.3261416 , 0.04      ],\n",
       "       [0.1843318 , 0.07      ],\n",
       "       [0.140553  , 0.08111111],\n",
       "       [0.09300377, 0.11111111],\n",
       "       [0.23041475, 0.16666667],\n",
       "       [0.21072476, 0.11111111],\n",
       "       [0.29723502, 0.19333333],\n",
       "       [0.44993716, 0.11111111],\n",
       "       [0.34981148, 0.11111111],\n",
       "       [0.56095517, 0.46      ],\n",
       "       [0.94470046, 0.44444444],\n",
       "       [0.45936322, 0.30555556],\n",
       "       [0.21617093, 0.17888889],\n",
       "       [0.28110599, 0.11111111],\n",
       "       [0.38604943, 0.27777778],\n",
       "       [0.20087977, 0.16666667],\n",
       "       [0.27524089, 0.11111111],\n",
       "       [0.22496858, 0.11111111],\n",
       "       [0.30247172, 0.22222222],\n",
       "       [0.44930876, 0.27555556],\n",
       "       [0.37054881, 0.13777778],\n",
       "       [0.59991621, 0.38888889],\n",
       "       [0.1575199 , 0.06777778],\n",
       "       [0.15835777, 0.11111111],\n",
       "       [1.        , 1.        ],\n",
       "       [0.26686217, 0.24      ],\n",
       "       [0.0875576 , 0.46111111],\n",
       "       [0.60284876, 0.24222222],\n",
       "       [0.28801843, 0.33333333],\n",
       "       [0.6248429 , 0.23444444],\n",
       "       [0.3104315 , 0.11111111],\n",
       "       [0.23900293, 0.11111111],\n",
       "       [0.13678257, 0.33333333],\n",
       "       [0.66108085, 0.28333333],\n",
       "       [0.66149979, 0.29777778],\n",
       "       [0.42438207, 0.51666667],\n",
       "       [0.8856305 , 0.27777778],\n",
       "       [0.42103058, 0.61111111],\n",
       "       [0.78508588, 0.22222222],\n",
       "       [0.36908253, 0.44444444],\n",
       "       [0.37348136, 0.27777778],\n",
       "       [0.57373272, 0.11111111],\n",
       "       [0.31587767, 0.27777778],\n",
       "       [0.41956431, 0.33333333],\n",
       "       [0.26434855, 0.05555556],\n",
       "       [0.35064935, 0.35444444],\n",
       "       [0.53142019, 0.17333333],\n",
       "       [0.25994973, 0.11333333],\n",
       "       [0.2829912 , 0.33333333],\n",
       "       [0.09405111, 0.04888889],\n",
       "       [0.1522832 , 0.11111111],\n",
       "       [0.83870968, 0.44444444],\n",
       "       [0.20800168, 0.11111111],\n",
       "       [0.21868454, 0.11111111],\n",
       "       [0.32760788, 0.33333333],\n",
       "       [0.20255551, 0.11222222],\n",
       "       [0.20800168, 0.11111111],\n",
       "       [0.27922078, 0.16666667],\n",
       "       [0.36573104, 0.33333333],\n",
       "       [0.28068705, 0.24777778],\n",
       "       [0.49266862, 0.26777778],\n",
       "       [0.74696271, 0.22222222],\n",
       "       [0.44407206, 0.11444444],\n",
       "       [0.20297444, 0.13666667],\n",
       "       [0.565354  , 0.11111111],\n",
       "       [0.47800587, 0.46222222],\n",
       "       [0.94805195, 0.88888889],\n",
       "       [0.21365731, 0.16666667],\n",
       "       [0.52576456, 0.61111111],\n",
       "       [0.205907  , 0.01111111],\n",
       "       [0.52534562, 0.22222222],\n",
       "       [0.17846669, 0.05555556],\n",
       "       [0.09782153, 0.04888889],\n",
       "       [0.56702974, 0.23222222],\n",
       "       [0.19040637, 0.13333333],\n",
       "       [0.21679933, 0.27555556],\n",
       "       [0.11541684, 0.10222222],\n",
       "       [0.27042313, 0.22222222],\n",
       "       [0.21679933, 0.06444444],\n",
       "       [0.2764977 , 0.16666667],\n",
       "       [0.1470465 , 0.11111111],\n",
       "       [0.3640553 , 0.22222222],\n",
       "       [0.21386678, 0.19111111],\n",
       "       [0.39903645, 0.20888889],\n",
       "       [0.43862589, 0.11111111],\n",
       "       [0.26434855, 0.22222222],\n",
       "       [0.17888563, 0.26555556],\n",
       "       [0.16129032, 0.05222222],\n",
       "       [0.26099707, 0.22222222],\n",
       "       [0.14662757, 0.02777778],\n",
       "       [0.19962296, 0.        ],\n",
       "       [0.62337662, 0.01888889],\n",
       "       [0.68621701, 0.40777778],\n",
       "       [0.5437788 , 0.54666667],\n",
       "       [0.50502723, 0.11111111],\n",
       "       [0.41055718, 0.11111111],\n",
       "       [0.30896523, 0.08333333],\n",
       "       [0.32907415, 0.22222222]])"
      ]
     },
     "execution_count": 45,
     "metadata": {},
     "output_type": "execute_result"
    }
   ],
   "source": [
    "norm"
   ]
  },
  {
   "cell_type": "code",
   "execution_count": null,
   "id": "8dedaff1",
   "metadata": {},
   "outputs": [],
   "source": []
  },
  {
   "cell_type": "markdown",
   "id": "23fe5412",
   "metadata": {},
   "source": [
    "# Data PReprocessing"
   ]
  },
  {
   "cell_type": "code",
   "execution_count": 46,
   "id": "697700b7",
   "metadata": {},
   "outputs": [],
   "source": [
    "import pandas as pd\n",
    "import numpy as np\n",
    "import matplotlib.pyplot as plt\n",
    "import seaborn as sns"
   ]
  },
  {
   "cell_type": "code",
   "execution_count": 47,
   "id": "a9a9a0c3",
   "metadata": {},
   "outputs": [
    {
     "data": {
      "text/html": [
       "<div>\n",
       "<style scoped>\n",
       "    .dataframe tbody tr th:only-of-type {\n",
       "        vertical-align: middle;\n",
       "    }\n",
       "\n",
       "    .dataframe tbody tr th {\n",
       "        vertical-align: top;\n",
       "    }\n",
       "\n",
       "    .dataframe thead th {\n",
       "        text-align: right;\n",
       "    }\n",
       "</style>\n",
       "<table border=\"1\" class=\"dataframe\">\n",
       "  <thead>\n",
       "    <tr style=\"text-align: right;\">\n",
       "      <th></th>\n",
       "      <th>age</th>\n",
       "      <th>sex</th>\n",
       "      <th>bmi</th>\n",
       "      <th>children</th>\n",
       "      <th>smoker</th>\n",
       "      <th>region</th>\n",
       "      <th>charges</th>\n",
       "    </tr>\n",
       "  </thead>\n",
       "  <tbody>\n",
       "    <tr>\n",
       "      <th>0</th>\n",
       "      <td>19</td>\n",
       "      <td>female</td>\n",
       "      <td>27.900</td>\n",
       "      <td>0</td>\n",
       "      <td>yes</td>\n",
       "      <td>southwest</td>\n",
       "      <td>16884.92400</td>\n",
       "    </tr>\n",
       "    <tr>\n",
       "      <th>1</th>\n",
       "      <td>18</td>\n",
       "      <td>male</td>\n",
       "      <td>33.770</td>\n",
       "      <td>1</td>\n",
       "      <td>no</td>\n",
       "      <td>southeast</td>\n",
       "      <td>1725.55230</td>\n",
       "    </tr>\n",
       "    <tr>\n",
       "      <th>2</th>\n",
       "      <td>28</td>\n",
       "      <td>male</td>\n",
       "      <td>33.000</td>\n",
       "      <td>3</td>\n",
       "      <td>no</td>\n",
       "      <td>southeast</td>\n",
       "      <td>4449.46200</td>\n",
       "    </tr>\n",
       "    <tr>\n",
       "      <th>3</th>\n",
       "      <td>33</td>\n",
       "      <td>male</td>\n",
       "      <td>22.705</td>\n",
       "      <td>0</td>\n",
       "      <td>no</td>\n",
       "      <td>northwest</td>\n",
       "      <td>21984.47061</td>\n",
       "    </tr>\n",
       "    <tr>\n",
       "      <th>4</th>\n",
       "      <td>32</td>\n",
       "      <td>male</td>\n",
       "      <td>28.880</td>\n",
       "      <td>0</td>\n",
       "      <td>no</td>\n",
       "      <td>northwest</td>\n",
       "      <td>3866.85520</td>\n",
       "    </tr>\n",
       "  </tbody>\n",
       "</table>\n",
       "</div>"
      ],
      "text/plain": [
       "   age     sex     bmi  children smoker     region      charges\n",
       "0   19  female  27.900         0    yes  southwest  16884.92400\n",
       "1   18    male  33.770         1     no  southeast   1725.55230\n",
       "2   28    male  33.000         3     no  southeast   4449.46200\n",
       "3   33    male  22.705         0     no  northwest  21984.47061\n",
       "4   32    male  28.880         0     no  northwest   3866.85520"
      ]
     },
     "execution_count": 47,
     "metadata": {},
     "output_type": "execute_result"
    }
   ],
   "source": [
    "#loadd the data\n",
    "\n",
    "data=pd.read_csv(\"insurance.csv\")\n",
    "data.head()"
   ]
  },
  {
   "cell_type": "code",
   "execution_count": 48,
   "id": "c3588a14",
   "metadata": {},
   "outputs": [
    {
     "data": {
      "text/html": [
       "<div>\n",
       "<style scoped>\n",
       "    .dataframe tbody tr th:only-of-type {\n",
       "        vertical-align: middle;\n",
       "    }\n",
       "\n",
       "    .dataframe tbody tr th {\n",
       "        vertical-align: top;\n",
       "    }\n",
       "\n",
       "    .dataframe thead th {\n",
       "        text-align: right;\n",
       "    }\n",
       "</style>\n",
       "<table border=\"1\" class=\"dataframe\">\n",
       "  <thead>\n",
       "    <tr style=\"text-align: right;\">\n",
       "      <th></th>\n",
       "      <th>age</th>\n",
       "      <th>sex</th>\n",
       "      <th>bmi</th>\n",
       "      <th>children</th>\n",
       "      <th>smoker</th>\n",
       "      <th>region</th>\n",
       "      <th>charges</th>\n",
       "    </tr>\n",
       "  </thead>\n",
       "  <tbody>\n",
       "    <tr>\n",
       "      <th>1333</th>\n",
       "      <td>50</td>\n",
       "      <td>male</td>\n",
       "      <td>30.97</td>\n",
       "      <td>3</td>\n",
       "      <td>no</td>\n",
       "      <td>northwest</td>\n",
       "      <td>10600.5483</td>\n",
       "    </tr>\n",
       "    <tr>\n",
       "      <th>1334</th>\n",
       "      <td>18</td>\n",
       "      <td>female</td>\n",
       "      <td>31.92</td>\n",
       "      <td>0</td>\n",
       "      <td>no</td>\n",
       "      <td>northeast</td>\n",
       "      <td>2205.9808</td>\n",
       "    </tr>\n",
       "    <tr>\n",
       "      <th>1335</th>\n",
       "      <td>18</td>\n",
       "      <td>female</td>\n",
       "      <td>36.85</td>\n",
       "      <td>0</td>\n",
       "      <td>no</td>\n",
       "      <td>southeast</td>\n",
       "      <td>1629.8335</td>\n",
       "    </tr>\n",
       "    <tr>\n",
       "      <th>1336</th>\n",
       "      <td>21</td>\n",
       "      <td>female</td>\n",
       "      <td>25.80</td>\n",
       "      <td>0</td>\n",
       "      <td>no</td>\n",
       "      <td>southwest</td>\n",
       "      <td>2007.9450</td>\n",
       "    </tr>\n",
       "    <tr>\n",
       "      <th>1337</th>\n",
       "      <td>61</td>\n",
       "      <td>female</td>\n",
       "      <td>29.07</td>\n",
       "      <td>0</td>\n",
       "      <td>yes</td>\n",
       "      <td>northwest</td>\n",
       "      <td>29141.3603</td>\n",
       "    </tr>\n",
       "  </tbody>\n",
       "</table>\n",
       "</div>"
      ],
      "text/plain": [
       "      age     sex    bmi  children smoker     region     charges\n",
       "1333   50    male  30.97         3     no  northwest  10600.5483\n",
       "1334   18  female  31.92         0     no  northeast   2205.9808\n",
       "1335   18  female  36.85         0     no  southeast   1629.8335\n",
       "1336   21  female  25.80         0     no  southwest   2007.9450\n",
       "1337   61  female  29.07         0    yes  northwest  29141.3603"
      ]
     },
     "execution_count": 48,
     "metadata": {},
     "output_type": "execute_result"
    }
   ],
   "source": [
    "data.tail()"
   ]
  },
  {
   "cell_type": "code",
   "execution_count": 49,
   "id": "63768b6b",
   "metadata": {},
   "outputs": [
    {
     "name": "stdout",
     "output_type": "stream",
     "text": [
      "<class 'pandas.core.frame.DataFrame'>\n",
      "RangeIndex: 1338 entries, 0 to 1337\n",
      "Data columns (total 7 columns):\n",
      " #   Column    Non-Null Count  Dtype  \n",
      "---  ------    --------------  -----  \n",
      " 0   age       1338 non-null   int64  \n",
      " 1   sex       1338 non-null   object \n",
      " 2   bmi       1338 non-null   float64\n",
      " 3   children  1338 non-null   int64  \n",
      " 4   smoker    1338 non-null   object \n",
      " 5   region    1338 non-null   object \n",
      " 6   charges   1338 non-null   float64\n",
      "dtypes: float64(2), int64(2), object(3)\n",
      "memory usage: 73.3+ KB\n"
     ]
    }
   ],
   "source": [
    "#information of the data\n",
    "data.info()"
   ]
  },
  {
   "cell_type": "markdown",
   "id": "4e92d474",
   "metadata": {},
   "source": [
    "# statistical analysis"
   ]
  },
  {
   "cell_type": "code",
   "execution_count": 50,
   "id": "e27dae2e",
   "metadata": {},
   "outputs": [
    {
     "data": {
      "text/plain": [
       "age            39.207025\n",
       "bmi            30.663397\n",
       "children        1.094918\n",
       "charges     13270.422265\n",
       "dtype: float64"
      ]
     },
     "execution_count": 50,
     "metadata": {},
     "output_type": "execute_result"
    }
   ],
   "source": [
    "#Mean\n",
    "data.mean()"
   ]
  },
  {
   "cell_type": "code",
   "execution_count": 51,
   "id": "cfce8878",
   "metadata": {},
   "outputs": [
    {
     "data": {
      "text/plain": [
       "age           39.000\n",
       "bmi           30.400\n",
       "children       1.000\n",
       "charges     9382.033\n",
       "dtype: float64"
      ]
     },
     "execution_count": 51,
     "metadata": {},
     "output_type": "execute_result"
    }
   ],
   "source": [
    "#median\n",
    "data.median()"
   ]
  },
  {
   "cell_type": "code",
   "execution_count": 52,
   "id": "93fdb8f7",
   "metadata": {},
   "outputs": [
    {
     "data": {
      "text/html": [
       "<div>\n",
       "<style scoped>\n",
       "    .dataframe tbody tr th:only-of-type {\n",
       "        vertical-align: middle;\n",
       "    }\n",
       "\n",
       "    .dataframe tbody tr th {\n",
       "        vertical-align: top;\n",
       "    }\n",
       "\n",
       "    .dataframe thead th {\n",
       "        text-align: right;\n",
       "    }\n",
       "</style>\n",
       "<table border=\"1\" class=\"dataframe\">\n",
       "  <thead>\n",
       "    <tr style=\"text-align: right;\">\n",
       "      <th></th>\n",
       "      <th>age</th>\n",
       "      <th>sex</th>\n",
       "      <th>bmi</th>\n",
       "      <th>children</th>\n",
       "      <th>smoker</th>\n",
       "      <th>region</th>\n",
       "      <th>charges</th>\n",
       "    </tr>\n",
       "  </thead>\n",
       "  <tbody>\n",
       "    <tr>\n",
       "      <th>0</th>\n",
       "      <td>18</td>\n",
       "      <td>male</td>\n",
       "      <td>32.3</td>\n",
       "      <td>0</td>\n",
       "      <td>no</td>\n",
       "      <td>southeast</td>\n",
       "      <td>1639.5631</td>\n",
       "    </tr>\n",
       "  </tbody>\n",
       "</table>\n",
       "</div>"
      ],
      "text/plain": [
       "   age   sex   bmi  children smoker     region    charges\n",
       "0   18  male  32.3         0     no  southeast  1639.5631"
      ]
     },
     "execution_count": 52,
     "metadata": {},
     "output_type": "execute_result"
    }
   ],
   "source": [
    "#mode \n",
    "\n",
    "data.mode()"
   ]
  },
  {
   "cell_type": "code",
   "execution_count": 53,
   "id": "b2d8c731",
   "metadata": {},
   "outputs": [
    {
     "data": {
      "text/plain": [
       "age            14.049960\n",
       "bmi             6.098187\n",
       "children        1.205493\n",
       "charges     12110.011237\n",
       "dtype: float64"
      ]
     },
     "execution_count": 53,
     "metadata": {},
     "output_type": "execute_result"
    }
   ],
   "source": [
    "#data\n",
    "data.std()"
   ]
  },
  {
   "cell_type": "code",
   "execution_count": 54,
   "id": "c4699be3",
   "metadata": {},
   "outputs": [
    {
     "data": {
      "text/plain": [
       "age         1.974014e+02\n",
       "bmi         3.718788e+01\n",
       "children    1.453213e+00\n",
       "charges     1.466524e+08\n",
       "dtype: float64"
      ]
     },
     "execution_count": 54,
     "metadata": {},
     "output_type": "execute_result"
    }
   ],
   "source": [
    "#\n",
    "data.var()"
   ]
  },
  {
   "cell_type": "code",
   "execution_count": 55,
   "id": "97dc0ad7",
   "metadata": {},
   "outputs": [
    {
     "data": {
      "text/html": [
       "<div>\n",
       "<style scoped>\n",
       "    .dataframe tbody tr th:only-of-type {\n",
       "        vertical-align: middle;\n",
       "    }\n",
       "\n",
       "    .dataframe tbody tr th {\n",
       "        vertical-align: top;\n",
       "    }\n",
       "\n",
       "    .dataframe thead th {\n",
       "        text-align: right;\n",
       "    }\n",
       "</style>\n",
       "<table border=\"1\" class=\"dataframe\">\n",
       "  <thead>\n",
       "    <tr style=\"text-align: right;\">\n",
       "      <th></th>\n",
       "      <th>age</th>\n",
       "      <th>bmi</th>\n",
       "      <th>children</th>\n",
       "      <th>charges</th>\n",
       "    </tr>\n",
       "  </thead>\n",
       "  <tbody>\n",
       "    <tr>\n",
       "      <th>count</th>\n",
       "      <td>1338.000000</td>\n",
       "      <td>1338.000000</td>\n",
       "      <td>1338.000000</td>\n",
       "      <td>1338.000000</td>\n",
       "    </tr>\n",
       "    <tr>\n",
       "      <th>mean</th>\n",
       "      <td>39.207025</td>\n",
       "      <td>30.663397</td>\n",
       "      <td>1.094918</td>\n",
       "      <td>13270.422265</td>\n",
       "    </tr>\n",
       "    <tr>\n",
       "      <th>std</th>\n",
       "      <td>14.049960</td>\n",
       "      <td>6.098187</td>\n",
       "      <td>1.205493</td>\n",
       "      <td>12110.011237</td>\n",
       "    </tr>\n",
       "    <tr>\n",
       "      <th>min</th>\n",
       "      <td>18.000000</td>\n",
       "      <td>15.960000</td>\n",
       "      <td>0.000000</td>\n",
       "      <td>1121.873900</td>\n",
       "    </tr>\n",
       "    <tr>\n",
       "      <th>25%</th>\n",
       "      <td>27.000000</td>\n",
       "      <td>26.296250</td>\n",
       "      <td>0.000000</td>\n",
       "      <td>4740.287150</td>\n",
       "    </tr>\n",
       "    <tr>\n",
       "      <th>50%</th>\n",
       "      <td>39.000000</td>\n",
       "      <td>30.400000</td>\n",
       "      <td>1.000000</td>\n",
       "      <td>9382.033000</td>\n",
       "    </tr>\n",
       "    <tr>\n",
       "      <th>75%</th>\n",
       "      <td>51.000000</td>\n",
       "      <td>34.693750</td>\n",
       "      <td>2.000000</td>\n",
       "      <td>16639.912515</td>\n",
       "    </tr>\n",
       "    <tr>\n",
       "      <th>max</th>\n",
       "      <td>64.000000</td>\n",
       "      <td>53.130000</td>\n",
       "      <td>5.000000</td>\n",
       "      <td>63770.428010</td>\n",
       "    </tr>\n",
       "  </tbody>\n",
       "</table>\n",
       "</div>"
      ],
      "text/plain": [
       "               age          bmi     children       charges\n",
       "count  1338.000000  1338.000000  1338.000000   1338.000000\n",
       "mean     39.207025    30.663397     1.094918  13270.422265\n",
       "std      14.049960     6.098187     1.205493  12110.011237\n",
       "min      18.000000    15.960000     0.000000   1121.873900\n",
       "25%      27.000000    26.296250     0.000000   4740.287150\n",
       "50%      39.000000    30.400000     1.000000   9382.033000\n",
       "75%      51.000000    34.693750     2.000000  16639.912515\n",
       "max      64.000000    53.130000     5.000000  63770.428010"
      ]
     },
     "execution_count": 55,
     "metadata": {},
     "output_type": "execute_result"
    }
   ],
   "source": [
    "#decribe it will give statistical analysis od the dataset\n",
    "\n",
    "data.describe()"
   ]
  },
  {
   "cell_type": "code",
   "execution_count": 56,
   "id": "957e8884",
   "metadata": {},
   "outputs": [
    {
     "data": {
      "text/html": [
       "<div>\n",
       "<style scoped>\n",
       "    .dataframe tbody tr th:only-of-type {\n",
       "        vertical-align: middle;\n",
       "    }\n",
       "\n",
       "    .dataframe tbody tr th {\n",
       "        vertical-align: top;\n",
       "    }\n",
       "\n",
       "    .dataframe thead th {\n",
       "        text-align: right;\n",
       "    }\n",
       "</style>\n",
       "<table border=\"1\" class=\"dataframe\">\n",
       "  <thead>\n",
       "    <tr style=\"text-align: right;\">\n",
       "      <th></th>\n",
       "      <th>age</th>\n",
       "      <th>sex</th>\n",
       "      <th>bmi</th>\n",
       "      <th>children</th>\n",
       "      <th>smoker</th>\n",
       "      <th>region</th>\n",
       "      <th>charges</th>\n",
       "    </tr>\n",
       "  </thead>\n",
       "  <tbody>\n",
       "    <tr>\n",
       "      <th>0</th>\n",
       "      <td>19</td>\n",
       "      <td>female</td>\n",
       "      <td>27.90</td>\n",
       "      <td>0</td>\n",
       "      <td>yes</td>\n",
       "      <td>southwest</td>\n",
       "      <td>16884.9240</td>\n",
       "    </tr>\n",
       "    <tr>\n",
       "      <th>1</th>\n",
       "      <td>18</td>\n",
       "      <td>male</td>\n",
       "      <td>33.77</td>\n",
       "      <td>1</td>\n",
       "      <td>no</td>\n",
       "      <td>southeast</td>\n",
       "      <td>1725.5523</td>\n",
       "    </tr>\n",
       "  </tbody>\n",
       "</table>\n",
       "</div>"
      ],
      "text/plain": [
       "   age     sex    bmi  children smoker     region     charges\n",
       "0   19  female  27.90         0    yes  southwest  16884.9240\n",
       "1   18    male  33.77         1     no  southeast   1725.5523"
      ]
     },
     "execution_count": 56,
     "metadata": {},
     "output_type": "execute_result"
    }
   ],
   "source": [
    "data.head(2)"
   ]
  },
  {
   "cell_type": "code",
   "execution_count": 57,
   "id": "cb27f3d5",
   "metadata": {},
   "outputs": [
    {
     "data": {
      "text/plain": [
       "array(['female', 'male'], dtype=object)"
      ]
     },
     "execution_count": 57,
     "metadata": {},
     "output_type": "execute_result"
    }
   ],
   "source": [
    "#unique values in the data set\n",
    "data['sex'].unique()"
   ]
  },
  {
   "cell_type": "code",
   "execution_count": 58,
   "id": "24d74481",
   "metadata": {},
   "outputs": [
    {
     "data": {
      "text/plain": [
       "array([0, 1, 3, 2, 5, 4], dtype=int64)"
      ]
     },
     "execution_count": 58,
     "metadata": {},
     "output_type": "execute_result"
    }
   ],
   "source": [
    "data['children'].unique()"
   ]
  },
  {
   "cell_type": "code",
   "execution_count": 59,
   "id": "a293be4a",
   "metadata": {},
   "outputs": [
    {
     "data": {
      "text/plain": [
       "array(['southwest', 'southeast', 'northwest', 'northeast'], dtype=object)"
      ]
     },
     "execution_count": 59,
     "metadata": {},
     "output_type": "execute_result"
    }
   ],
   "source": [
    "data['region'].unique()"
   ]
  },
  {
   "cell_type": "markdown",
   "id": "f5812e58",
   "metadata": {},
   "source": [
    "# cheking null values "
   ]
  },
  {
   "cell_type": "code",
   "execution_count": 60,
   "id": "0fe4f30a",
   "metadata": {},
   "outputs": [
    {
     "data": {
      "text/html": [
       "<div>\n",
       "<style scoped>\n",
       "    .dataframe tbody tr th:only-of-type {\n",
       "        vertical-align: middle;\n",
       "    }\n",
       "\n",
       "    .dataframe tbody tr th {\n",
       "        vertical-align: top;\n",
       "    }\n",
       "\n",
       "    .dataframe thead th {\n",
       "        text-align: right;\n",
       "    }\n",
       "</style>\n",
       "<table border=\"1\" class=\"dataframe\">\n",
       "  <thead>\n",
       "    <tr style=\"text-align: right;\">\n",
       "      <th></th>\n",
       "      <th>age</th>\n",
       "      <th>sex</th>\n",
       "      <th>bmi</th>\n",
       "      <th>children</th>\n",
       "      <th>smoker</th>\n",
       "      <th>region</th>\n",
       "      <th>charges</th>\n",
       "    </tr>\n",
       "  </thead>\n",
       "  <tbody>\n",
       "    <tr>\n",
       "      <th>0</th>\n",
       "      <td>False</td>\n",
       "      <td>False</td>\n",
       "      <td>False</td>\n",
       "      <td>False</td>\n",
       "      <td>False</td>\n",
       "      <td>False</td>\n",
       "      <td>False</td>\n",
       "    </tr>\n",
       "    <tr>\n",
       "      <th>1</th>\n",
       "      <td>False</td>\n",
       "      <td>False</td>\n",
       "      <td>False</td>\n",
       "      <td>False</td>\n",
       "      <td>False</td>\n",
       "      <td>False</td>\n",
       "      <td>False</td>\n",
       "    </tr>\n",
       "    <tr>\n",
       "      <th>2</th>\n",
       "      <td>False</td>\n",
       "      <td>False</td>\n",
       "      <td>False</td>\n",
       "      <td>False</td>\n",
       "      <td>False</td>\n",
       "      <td>False</td>\n",
       "      <td>False</td>\n",
       "    </tr>\n",
       "    <tr>\n",
       "      <th>3</th>\n",
       "      <td>False</td>\n",
       "      <td>False</td>\n",
       "      <td>False</td>\n",
       "      <td>False</td>\n",
       "      <td>False</td>\n",
       "      <td>False</td>\n",
       "      <td>False</td>\n",
       "    </tr>\n",
       "    <tr>\n",
       "      <th>4</th>\n",
       "      <td>False</td>\n",
       "      <td>False</td>\n",
       "      <td>False</td>\n",
       "      <td>False</td>\n",
       "      <td>False</td>\n",
       "      <td>False</td>\n",
       "      <td>False</td>\n",
       "    </tr>\n",
       "    <tr>\n",
       "      <th>...</th>\n",
       "      <td>...</td>\n",
       "      <td>...</td>\n",
       "      <td>...</td>\n",
       "      <td>...</td>\n",
       "      <td>...</td>\n",
       "      <td>...</td>\n",
       "      <td>...</td>\n",
       "    </tr>\n",
       "    <tr>\n",
       "      <th>1333</th>\n",
       "      <td>False</td>\n",
       "      <td>False</td>\n",
       "      <td>False</td>\n",
       "      <td>False</td>\n",
       "      <td>False</td>\n",
       "      <td>False</td>\n",
       "      <td>False</td>\n",
       "    </tr>\n",
       "    <tr>\n",
       "      <th>1334</th>\n",
       "      <td>False</td>\n",
       "      <td>False</td>\n",
       "      <td>False</td>\n",
       "      <td>False</td>\n",
       "      <td>False</td>\n",
       "      <td>False</td>\n",
       "      <td>False</td>\n",
       "    </tr>\n",
       "    <tr>\n",
       "      <th>1335</th>\n",
       "      <td>False</td>\n",
       "      <td>False</td>\n",
       "      <td>False</td>\n",
       "      <td>False</td>\n",
       "      <td>False</td>\n",
       "      <td>False</td>\n",
       "      <td>False</td>\n",
       "    </tr>\n",
       "    <tr>\n",
       "      <th>1336</th>\n",
       "      <td>False</td>\n",
       "      <td>False</td>\n",
       "      <td>False</td>\n",
       "      <td>False</td>\n",
       "      <td>False</td>\n",
       "      <td>False</td>\n",
       "      <td>False</td>\n",
       "    </tr>\n",
       "    <tr>\n",
       "      <th>1337</th>\n",
       "      <td>False</td>\n",
       "      <td>False</td>\n",
       "      <td>False</td>\n",
       "      <td>False</td>\n",
       "      <td>False</td>\n",
       "      <td>False</td>\n",
       "      <td>False</td>\n",
       "    </tr>\n",
       "  </tbody>\n",
       "</table>\n",
       "<p>1338 rows × 7 columns</p>\n",
       "</div>"
      ],
      "text/plain": [
       "        age    sex    bmi  children  smoker  region  charges\n",
       "0     False  False  False     False   False   False    False\n",
       "1     False  False  False     False   False   False    False\n",
       "2     False  False  False     False   False   False    False\n",
       "3     False  False  False     False   False   False    False\n",
       "4     False  False  False     False   False   False    False\n",
       "...     ...    ...    ...       ...     ...     ...      ...\n",
       "1333  False  False  False     False   False   False    False\n",
       "1334  False  False  False     False   False   False    False\n",
       "1335  False  False  False     False   False   False    False\n",
       "1336  False  False  False     False   False   False    False\n",
       "1337  False  False  False     False   False   False    False\n",
       "\n",
       "[1338 rows x 7 columns]"
      ]
     },
     "execution_count": 60,
     "metadata": {},
     "output_type": "execute_result"
    }
   ],
   "source": [
    "#checking the null values\n",
    "\n",
    "data.isna()"
   ]
  },
  {
   "cell_type": "code",
   "execution_count": 61,
   "id": "b3b5f49a",
   "metadata": {},
   "outputs": [
    {
     "data": {
      "text/plain": [
       "age         False\n",
       "sex         False\n",
       "bmi         False\n",
       "children    False\n",
       "smoker      False\n",
       "region      False\n",
       "charges     False\n",
       "dtype: bool"
      ]
     },
     "execution_count": 61,
     "metadata": {},
     "output_type": "execute_result"
    }
   ],
   "source": [
    "data.isna().any()"
   ]
  },
  {
   "cell_type": "code",
   "execution_count": 62,
   "id": "92eac4e2",
   "metadata": {},
   "outputs": [
    {
     "data": {
      "text/plain": [
       "age         0\n",
       "sex         0\n",
       "bmi         0\n",
       "children    0\n",
       "smoker      0\n",
       "region      0\n",
       "charges     0\n",
       "dtype: int64"
      ]
     },
     "execution_count": 62,
     "metadata": {},
     "output_type": "execute_result"
    }
   ],
   "source": [
    "data.isna().sum()"
   ]
  },
  {
   "cell_type": "code",
   "execution_count": 63,
   "id": "d7b234ac",
   "metadata": {},
   "outputs": [
    {
     "data": {
      "text/html": [
       "<div>\n",
       "<style scoped>\n",
       "    .dataframe tbody tr th:only-of-type {\n",
       "        vertical-align: middle;\n",
       "    }\n",
       "\n",
       "    .dataframe tbody tr th {\n",
       "        vertical-align: top;\n",
       "    }\n",
       "\n",
       "    .dataframe thead th {\n",
       "        text-align: right;\n",
       "    }\n",
       "</style>\n",
       "<table border=\"1\" class=\"dataframe\">\n",
       "  <thead>\n",
       "    <tr style=\"text-align: right;\">\n",
       "      <th></th>\n",
       "      <th>age</th>\n",
       "      <th>bmi</th>\n",
       "      <th>children</th>\n",
       "      <th>charges</th>\n",
       "    </tr>\n",
       "  </thead>\n",
       "  <tbody>\n",
       "    <tr>\n",
       "      <th>age</th>\n",
       "      <td>1.000000</td>\n",
       "      <td>0.109272</td>\n",
       "      <td>0.042469</td>\n",
       "      <td>0.299008</td>\n",
       "    </tr>\n",
       "    <tr>\n",
       "      <th>bmi</th>\n",
       "      <td>0.109272</td>\n",
       "      <td>1.000000</td>\n",
       "      <td>0.012759</td>\n",
       "      <td>0.198341</td>\n",
       "    </tr>\n",
       "    <tr>\n",
       "      <th>children</th>\n",
       "      <td>0.042469</td>\n",
       "      <td>0.012759</td>\n",
       "      <td>1.000000</td>\n",
       "      <td>0.067998</td>\n",
       "    </tr>\n",
       "    <tr>\n",
       "      <th>charges</th>\n",
       "      <td>0.299008</td>\n",
       "      <td>0.198341</td>\n",
       "      <td>0.067998</td>\n",
       "      <td>1.000000</td>\n",
       "    </tr>\n",
       "  </tbody>\n",
       "</table>\n",
       "</div>"
      ],
      "text/plain": [
       "               age       bmi  children   charges\n",
       "age       1.000000  0.109272  0.042469  0.299008\n",
       "bmi       0.109272  1.000000  0.012759  0.198341\n",
       "children  0.042469  0.012759  1.000000  0.067998\n",
       "charges   0.299008  0.198341  0.067998  1.000000"
      ]
     },
     "execution_count": 63,
     "metadata": {},
     "output_type": "execute_result"
    }
   ],
   "source": [
    "#corr\n",
    "data.corr()"
   ]
  },
  {
   "cell_type": "code",
   "execution_count": 64,
   "id": "793addf0",
   "metadata": {},
   "outputs": [
    {
     "data": {
      "text/plain": [
       "<AxesSubplot:>"
      ]
     },
     "execution_count": 64,
     "metadata": {},
     "output_type": "execute_result"
    },
    {
     "data": {
      "image/png": "[encoded data removed]",
      "text/plain": [
       "<Figure size 432x288 with 2 Axes>"
      ]
     },
     "metadata": {
      "needs_background": "light"
     },
     "output_type": "display_data"
    }
   ],
   "source": [
    "sns.heatmap(data.corr(),annot=True)"
   ]
  },
  {
   "cell_type": "markdown",
   "id": "26855a9e",
   "metadata": {},
   "source": [
    "# handling outlier"
   ]
  },
  {
   "cell_type": "code",
   "execution_count": 65,
   "id": "dbefb9fd",
   "metadata": {},
   "outputs": [
    {
     "data": {
      "text/plain": [
       "<AxesSubplot:xlabel='bmi'>"
      ]
     },
     "execution_count": 65,
     "metadata": {},
     "output_type": "execute_result"
    },
    {
     "data": {
      "image/png": "[encoded data removed]",
      "text/plain": [
       "<Figure size 432x288 with 1 Axes>"
      ]
     },
     "metadata": {
      "needs_background": "light"
     },
     "output_type": "display_data"
    }
   ],
   "source": [
    "sns.boxplot(data['bmi'])"
   ]
  },
  {
   "cell_type": "markdown",
   "id": "43650d81",
   "metadata": {},
   "source": [
    "# method to handle outlier"
   ]
  },
  {
   "cell_type": "code",
   "execution_count": 66,
   "id": "d0f7fbf5",
   "metadata": {},
   "outputs": [
    {
     "data": {
      "text/html": [
       "<div>\n",
       "<style scoped>\n",
       "    .dataframe tbody tr th:only-of-type {\n",
       "        vertical-align: middle;\n",
       "    }\n",
       "\n",
       "    .dataframe tbody tr th {\n",
       "        vertical-align: top;\n",
       "    }\n",
       "\n",
       "    .dataframe thead th {\n",
       "        text-align: right;\n",
       "    }\n",
       "</style>\n",
       "<table border=\"1\" class=\"dataframe\">\n",
       "  <thead>\n",
       "    <tr style=\"text-align: right;\">\n",
       "      <th></th>\n",
       "      <th>age</th>\n",
       "      <th>bmi</th>\n",
       "      <th>children</th>\n",
       "      <th>charges</th>\n",
       "    </tr>\n",
       "  </thead>\n",
       "  <tbody>\n",
       "    <tr>\n",
       "      <th>0.25</th>\n",
       "      <td>27.0</td>\n",
       "      <td>26.29625</td>\n",
       "      <td>0.0</td>\n",
       "      <td>4740.287150</td>\n",
       "    </tr>\n",
       "    <tr>\n",
       "      <th>0.75</th>\n",
       "      <td>51.0</td>\n",
       "      <td>34.69375</td>\n",
       "      <td>2.0</td>\n",
       "      <td>16639.912515</td>\n",
       "    </tr>\n",
       "  </tbody>\n",
       "</table>\n",
       "</div>"
      ],
      "text/plain": [
       "       age       bmi  children       charges\n",
       "0.25  27.0  26.29625       0.0   4740.287150\n",
       "0.75  51.0  34.69375       2.0  16639.912515"
      ]
     },
     "execution_count": 66,
     "metadata": {},
     "output_type": "execute_result"
    }
   ],
   "source": [
    "qnt=data.quantile(q=[0.25,0.75])\n",
    "\n",
    "qnt"
   ]
  },
  {
   "cell_type": "code",
   "execution_count": 67,
   "id": "f2c289ea",
   "metadata": {},
   "outputs": [
    {
     "data": {
      "text/plain": [
       "age            24.000000\n",
       "bmi             8.397500\n",
       "children        2.000000\n",
       "charges     11899.625365\n",
       "dtype: float64"
      ]
     },
     "execution_count": 67,
     "metadata": {},
     "output_type": "execute_result"
    }
   ],
   "source": [
    "iqr=qnt.loc[0.75]-qnt.loc[0.25] #q3-q1\n",
    "\n",
    "iqr"
   ]
  },
  {
   "cell_type": "code",
   "execution_count": 68,
   "id": "f4d1011e",
   "metadata": {},
   "outputs": [
    {
     "data": {
      "text/plain": [
       "age            -9.000000\n",
       "bmi            13.700000\n",
       "children       -3.000000\n",
       "charges    -13109.150897\n",
       "dtype: float64"
      ]
     },
     "execution_count": 68,
     "metadata": {},
     "output_type": "execute_result"
    }
   ],
   "source": [
    "##\n",
    "lower=qnt.loc[0.25]-(1.5*iqr)\n",
    "lower"
   ]
  },
  {
   "cell_type": "code",
   "execution_count": 69,
   "id": "b8b9306e",
   "metadata": {},
   "outputs": [
    {
     "data": {
      "text/plain": [
       "age            87.000000\n",
       "bmi            47.290000\n",
       "children        5.000000\n",
       "charges     34489.350562\n",
       "dtype: float64"
      ]
     },
     "execution_count": 69,
     "metadata": {},
     "output_type": "execute_result"
    }
   ],
   "source": [
    "#\n",
    "upper=qnt.loc[0.75]+(1.5*iqr)\n",
    "upper"
   ]
  },
  {
   "cell_type": "code",
   "execution_count": 70,
   "id": "a709c54b",
   "metadata": {},
   "outputs": [
    {
     "data": {
      "text/plain": [
       "age            39.207025\n",
       "bmi            30.663397\n",
       "children        1.094918\n",
       "charges     13270.422265\n",
       "dtype: float64"
      ]
     },
     "execution_count": 70,
     "metadata": {},
     "output_type": "execute_result"
    }
   ],
   "source": [
    "data.mean() #mean values"
   ]
  },
  {
   "cell_type": "markdown",
   "id": "69061afa",
   "metadata": {},
   "source": [
    "# repplacing outlier"
   ]
  },
  {
   "cell_type": "code",
   "execution_count": 71,
   "id": "9ae7bca9",
   "metadata": {},
   "outputs": [
    {
     "data": {
      "text/plain": [
       "<AxesSubplot:xlabel='age'>"
      ]
     },
     "execution_count": 71,
     "metadata": {},
     "output_type": "execute_result"
    },
    {
     "data": {
      "image/png": "[encoded data removed]",
      "text/plain": [
       "<Figure size 432x288 with 1 Axes>"
      ]
     },
     "metadata": {
      "needs_background": "light"
     },
     "output_type": "display_data"
    }
   ],
   "source": [
    "sns.boxplot(data['age'])"
   ]
  },
  {
   "cell_type": "code",
   "execution_count": 72,
   "id": "c370a4d1",
   "metadata": {},
   "outputs": [
    {
     "data": {
      "text/plain": [
       "<AxesSubplot:xlabel='bmi'>"
      ]
     },
     "execution_count": 72,
     "metadata": {},
     "output_type": "execute_result"
    },
    {
     "data": {
      "image/png": "[encoded data removed]",
      "text/plain": [
       "<Figure size 432x288 with 1 Axes>"
      ]
     },
     "metadata": {
      "needs_background": "light"
     },
     "output_type": "display_data"
    }
   ],
   "source": [
    "sns.boxplot(data['bmi'])"
   ]
  },
  {
   "cell_type": "code",
   "execution_count": 73,
   "id": "4a331a3b",
   "metadata": {},
   "outputs": [],
   "source": [
    "data['bmi']=np.where(data['bmi']>45,31,data['bmi'])"
   ]
  },
  {
   "cell_type": "code",
   "execution_count": 74,
   "id": "6b8caf54",
   "metadata": {},
   "outputs": [
    {
     "data": {
      "text/plain": [
       "<AxesSubplot:xlabel='bmi'>"
      ]
     },
     "execution_count": 74,
     "metadata": {},
     "output_type": "execute_result"
    },
    {
     "data": {
      "image/png": "[encoded data removed]",
      "text/plain": [
       "<Figure size 432x288 with 1 Axes>"
      ]
     },
     "metadata": {
      "needs_background": "light"
     },
     "output_type": "display_data"
    }
   ],
   "source": [
    "sns.boxplot(data['bmi'])"
   ]
  },
  {
   "cell_type": "markdown",
   "id": "2e989b11",
   "metadata": {},
   "source": [
    "# encoding"
   ]
  },
  {
   "cell_type": "code",
   "execution_count": 75,
   "id": "1ef023c9",
   "metadata": {},
   "outputs": [
    {
     "data": {
      "text/html": [
       "<div>\n",
       "<style scoped>\n",
       "    .dataframe tbody tr th:only-of-type {\n",
       "        vertical-align: middle;\n",
       "    }\n",
       "\n",
       "    .dataframe tbody tr th {\n",
       "        vertical-align: top;\n",
       "    }\n",
       "\n",
       "    .dataframe thead th {\n",
       "        text-align: right;\n",
       "    }\n",
       "</style>\n",
       "<table border=\"1\" class=\"dataframe\">\n",
       "  <thead>\n",
       "    <tr style=\"text-align: right;\">\n",
       "      <th></th>\n",
       "      <th>age</th>\n",
       "      <th>sex</th>\n",
       "      <th>bmi</th>\n",
       "      <th>children</th>\n",
       "      <th>smoker</th>\n",
       "      <th>region</th>\n",
       "      <th>charges</th>\n",
       "    </tr>\n",
       "  </thead>\n",
       "  <tbody>\n",
       "    <tr>\n",
       "      <th>0</th>\n",
       "      <td>19</td>\n",
       "      <td>female</td>\n",
       "      <td>27.90</td>\n",
       "      <td>0</td>\n",
       "      <td>yes</td>\n",
       "      <td>southwest</td>\n",
       "      <td>16884.9240</td>\n",
       "    </tr>\n",
       "    <tr>\n",
       "      <th>1</th>\n",
       "      <td>18</td>\n",
       "      <td>male</td>\n",
       "      <td>33.77</td>\n",
       "      <td>1</td>\n",
       "      <td>no</td>\n",
       "      <td>southeast</td>\n",
       "      <td>1725.5523</td>\n",
       "    </tr>\n",
       "  </tbody>\n",
       "</table>\n",
       "</div>"
      ],
      "text/plain": [
       "   age     sex    bmi  children smoker     region     charges\n",
       "0   19  female  27.90         0    yes  southwest  16884.9240\n",
       "1   18    male  33.77         1     no  southeast   1725.5523"
      ]
     },
     "execution_count": 75,
     "metadata": {},
     "output_type": "execute_result"
    }
   ],
   "source": [
    "data.head(2)"
   ]
  },
  {
   "cell_type": "code",
   "execution_count": 78,
   "id": "91aa7e0b",
   "metadata": {},
   "outputs": [],
   "source": [
    "data['smoker'].replace({'yes':1,'no':0},inplace=True)\n",
    "data['sex'].replace({'yes':1,'no':0},inplace=True)"
   ]
  },
  {
   "cell_type": "code",
   "execution_count": 79,
   "id": "53ab5213",
   "metadata": {},
   "outputs": [
    {
     "data": {
      "text/html": [
       "<div>\n",
       "<style scoped>\n",
       "    .dataframe tbody tr th:only-of-type {\n",
       "        vertical-align: middle;\n",
       "    }\n",
       "\n",
       "    .dataframe tbody tr th {\n",
       "        vertical-align: top;\n",
       "    }\n",
       "\n",
       "    .dataframe thead th {\n",
       "        text-align: right;\n",
       "    }\n",
       "</style>\n",
       "<table border=\"1\" class=\"dataframe\">\n",
       "  <thead>\n",
       "    <tr style=\"text-align: right;\">\n",
       "      <th></th>\n",
       "      <th>age</th>\n",
       "      <th>sex</th>\n",
       "      <th>bmi</th>\n",
       "      <th>children</th>\n",
       "      <th>smoker</th>\n",
       "      <th>region</th>\n",
       "      <th>charges</th>\n",
       "    </tr>\n",
       "  </thead>\n",
       "  <tbody>\n",
       "    <tr>\n",
       "      <th>0</th>\n",
       "      <td>19</td>\n",
       "      <td>0</td>\n",
       "      <td>27.900</td>\n",
       "      <td>0</td>\n",
       "      <td>1</td>\n",
       "      <td>southwest</td>\n",
       "      <td>16884.92400</td>\n",
       "    </tr>\n",
       "    <tr>\n",
       "      <th>1</th>\n",
       "      <td>18</td>\n",
       "      <td>1</td>\n",
       "      <td>33.770</td>\n",
       "      <td>1</td>\n",
       "      <td>0</td>\n",
       "      <td>southeast</td>\n",
       "      <td>1725.55230</td>\n",
       "    </tr>\n",
       "    <tr>\n",
       "      <th>2</th>\n",
       "      <td>28</td>\n",
       "      <td>1</td>\n",
       "      <td>33.000</td>\n",
       "      <td>3</td>\n",
       "      <td>0</td>\n",
       "      <td>southeast</td>\n",
       "      <td>4449.46200</td>\n",
       "    </tr>\n",
       "    <tr>\n",
       "      <th>3</th>\n",
       "      <td>33</td>\n",
       "      <td>1</td>\n",
       "      <td>22.705</td>\n",
       "      <td>0</td>\n",
       "      <td>0</td>\n",
       "      <td>northwest</td>\n",
       "      <td>21984.47061</td>\n",
       "    </tr>\n",
       "    <tr>\n",
       "      <th>4</th>\n",
       "      <td>32</td>\n",
       "      <td>1</td>\n",
       "      <td>28.880</td>\n",
       "      <td>0</td>\n",
       "      <td>0</td>\n",
       "      <td>northwest</td>\n",
       "      <td>3866.85520</td>\n",
       "    </tr>\n",
       "  </tbody>\n",
       "</table>\n",
       "</div>"
      ],
      "text/plain": [
       "   age  sex     bmi  children  smoker     region      charges\n",
       "0   19    0  27.900         0       1  southwest  16884.92400\n",
       "1   18    1  33.770         1       0  southeast   1725.55230\n",
       "2   28    1  33.000         3       0  southeast   4449.46200\n",
       "3   33    1  22.705         0       0  northwest  21984.47061\n",
       "4   32    1  28.880         0       0  northwest   3866.85520"
      ]
     },
     "execution_count": 79,
     "metadata": {},
     "output_type": "execute_result"
    }
   ],
   "source": [
    "data.head()"
   ]
  },
  {
   "cell_type": "code",
   "execution_count": 82,
   "id": "7ee8fe44",
   "metadata": {},
   "outputs": [
    {
     "data": {
      "text/html": [
       "<div>\n",
       "<style scoped>\n",
       "    .dataframe tbody tr th:only-of-type {\n",
       "        vertical-align: middle;\n",
       "    }\n",
       "\n",
       "    .dataframe tbody tr th {\n",
       "        vertical-align: top;\n",
       "    }\n",
       "\n",
       "    .dataframe thead th {\n",
       "        text-align: right;\n",
       "    }\n",
       "</style>\n",
       "<table border=\"1\" class=\"dataframe\">\n",
       "  <thead>\n",
       "    <tr style=\"text-align: right;\">\n",
       "      <th></th>\n",
       "      <th>age</th>\n",
       "      <th>sex</th>\n",
       "      <th>bmi</th>\n",
       "      <th>children</th>\n",
       "      <th>smoker</th>\n",
       "      <th>charges</th>\n",
       "      <th>region_northeast</th>\n",
       "      <th>region_northwest</th>\n",
       "      <th>region_southeast</th>\n",
       "      <th>region_southwest</th>\n",
       "    </tr>\n",
       "  </thead>\n",
       "  <tbody>\n",
       "    <tr>\n",
       "      <th>0</th>\n",
       "      <td>19</td>\n",
       "      <td>0</td>\n",
       "      <td>27.900</td>\n",
       "      <td>0</td>\n",
       "      <td>1</td>\n",
       "      <td>16884.92400</td>\n",
       "      <td>0</td>\n",
       "      <td>0</td>\n",
       "      <td>0</td>\n",
       "      <td>1</td>\n",
       "    </tr>\n",
       "    <tr>\n",
       "      <th>1</th>\n",
       "      <td>18</td>\n",
       "      <td>1</td>\n",
       "      <td>33.770</td>\n",
       "      <td>1</td>\n",
       "      <td>0</td>\n",
       "      <td>1725.55230</td>\n",
       "      <td>0</td>\n",
       "      <td>0</td>\n",
       "      <td>1</td>\n",
       "      <td>0</td>\n",
       "    </tr>\n",
       "    <tr>\n",
       "      <th>2</th>\n",
       "      <td>28</td>\n",
       "      <td>1</td>\n",
       "      <td>33.000</td>\n",
       "      <td>3</td>\n",
       "      <td>0</td>\n",
       "      <td>4449.46200</td>\n",
       "      <td>0</td>\n",
       "      <td>0</td>\n",
       "      <td>1</td>\n",
       "      <td>0</td>\n",
       "    </tr>\n",
       "    <tr>\n",
       "      <th>3</th>\n",
       "      <td>33</td>\n",
       "      <td>1</td>\n",
       "      <td>22.705</td>\n",
       "      <td>0</td>\n",
       "      <td>0</td>\n",
       "      <td>21984.47061</td>\n",
       "      <td>0</td>\n",
       "      <td>1</td>\n",
       "      <td>0</td>\n",
       "      <td>0</td>\n",
       "    </tr>\n",
       "    <tr>\n",
       "      <th>4</th>\n",
       "      <td>32</td>\n",
       "      <td>1</td>\n",
       "      <td>28.880</td>\n",
       "      <td>0</td>\n",
       "      <td>0</td>\n",
       "      <td>3866.85520</td>\n",
       "      <td>0</td>\n",
       "      <td>1</td>\n",
       "      <td>0</td>\n",
       "      <td>0</td>\n",
       "    </tr>\n",
       "    <tr>\n",
       "      <th>...</th>\n",
       "      <td>...</td>\n",
       "      <td>...</td>\n",
       "      <td>...</td>\n",
       "      <td>...</td>\n",
       "      <td>...</td>\n",
       "      <td>...</td>\n",
       "      <td>...</td>\n",
       "      <td>...</td>\n",
       "      <td>...</td>\n",
       "      <td>...</td>\n",
       "    </tr>\n",
       "    <tr>\n",
       "      <th>1333</th>\n",
       "      <td>50</td>\n",
       "      <td>1</td>\n",
       "      <td>30.970</td>\n",
       "      <td>3</td>\n",
       "      <td>0</td>\n",
       "      <td>10600.54830</td>\n",
       "      <td>0</td>\n",
       "      <td>1</td>\n",
       "      <td>0</td>\n",
       "      <td>0</td>\n",
       "    </tr>\n",
       "    <tr>\n",
       "      <th>1334</th>\n",
       "      <td>18</td>\n",
       "      <td>0</td>\n",
       "      <td>31.920</td>\n",
       "      <td>0</td>\n",
       "      <td>0</td>\n",
       "      <td>2205.98080</td>\n",
       "      <td>1</td>\n",
       "      <td>0</td>\n",
       "      <td>0</td>\n",
       "      <td>0</td>\n",
       "    </tr>\n",
       "    <tr>\n",
       "      <th>1335</th>\n",
       "      <td>18</td>\n",
       "      <td>0</td>\n",
       "      <td>36.850</td>\n",
       "      <td>0</td>\n",
       "      <td>0</td>\n",
       "      <td>1629.83350</td>\n",
       "      <td>0</td>\n",
       "      <td>0</td>\n",
       "      <td>1</td>\n",
       "      <td>0</td>\n",
       "    </tr>\n",
       "    <tr>\n",
       "      <th>1336</th>\n",
       "      <td>21</td>\n",
       "      <td>0</td>\n",
       "      <td>25.800</td>\n",
       "      <td>0</td>\n",
       "      <td>0</td>\n",
       "      <td>2007.94500</td>\n",
       "      <td>0</td>\n",
       "      <td>0</td>\n",
       "      <td>0</td>\n",
       "      <td>1</td>\n",
       "    </tr>\n",
       "    <tr>\n",
       "      <th>1337</th>\n",
       "      <td>61</td>\n",
       "      <td>0</td>\n",
       "      <td>29.070</td>\n",
       "      <td>0</td>\n",
       "      <td>1</td>\n",
       "      <td>29141.36030</td>\n",
       "      <td>0</td>\n",
       "      <td>1</td>\n",
       "      <td>0</td>\n",
       "      <td>0</td>\n",
       "    </tr>\n",
       "  </tbody>\n",
       "</table>\n",
       "<p>1338 rows × 10 columns</p>\n",
       "</div>"
      ],
      "text/plain": [
       "      age  sex     bmi  children  smoker      charges  region_northeast  \\\n",
       "0      19    0  27.900         0       1  16884.92400                 0   \n",
       "1      18    1  33.770         1       0   1725.55230                 0   \n",
       "2      28    1  33.000         3       0   4449.46200                 0   \n",
       "3      33    1  22.705         0       0  21984.47061                 0   \n",
       "4      32    1  28.880         0       0   3866.85520                 0   \n",
       "...   ...  ...     ...       ...     ...          ...               ...   \n",
       "1333   50    1  30.970         3       0  10600.54830                 0   \n",
       "1334   18    0  31.920         0       0   2205.98080                 1   \n",
       "1335   18    0  36.850         0       0   1629.83350                 0   \n",
       "1336   21    0  25.800         0       0   2007.94500                 0   \n",
       "1337   61    0  29.070         0       1  29141.36030                 0   \n",
       "\n",
       "      region_northwest  region_southeast  region_southwest  \n",
       "0                    0                 0                 1  \n",
       "1                    0                 1                 0  \n",
       "2                    0                 1                 0  \n",
       "3                    1                 0                 0  \n",
       "4                    1                 0                 0  \n",
       "...                ...               ...               ...  \n",
       "1333                 1                 0                 0  \n",
       "1334                 0                 0                 0  \n",
       "1335                 0                 1                 0  \n",
       "1336                 0                 0                 1  \n",
       "1337                 1                 0                 0  \n",
       "\n",
       "[1338 rows x 10 columns]"
      ]
     },
     "execution_count": 82,
     "metadata": {},
     "output_type": "execute_result"
    }
   ],
   "source": [
    "#dummy variables\n",
    "\n",
    "data_main=pd.get_dummies(data,columns=['region'])\n",
    "data_main"
   ]
  },
  {
   "cell_type": "markdown",
   "id": "46dba5e8",
   "metadata": {},
   "source": [
    "# separating the X and y"
   ]
  },
  {
   "cell_type": "code",
   "execution_count": 84,
   "id": "c20e109b",
   "metadata": {},
   "outputs": [
    {
     "data": {
      "text/plain": [
       "0       16884.92400\n",
       "1        1725.55230\n",
       "2        4449.46200\n",
       "3       21984.47061\n",
       "4        3866.85520\n",
       "           ...     \n",
       "1333    10600.54830\n",
       "1334     2205.98080\n",
       "1335     1629.83350\n",
       "1336     2007.94500\n",
       "1337    29141.36030\n",
       "Name: charges, Length: 1338, dtype: float64"
      ]
     },
     "execution_count": 84,
     "metadata": {},
     "output_type": "execute_result"
    }
   ],
   "source": [
    "#dependent varibale\n",
    "\n",
    "y=data_main['charges']\n",
    "y"
   ]
  },
  {
   "cell_type": "code",
   "execution_count": 87,
   "id": "8f3e0631",
   "metadata": {},
   "outputs": [
    {
     "data": {
      "text/html": [
       "<div>\n",
       "<style scoped>\n",
       "    .dataframe tbody tr th:only-of-type {\n",
       "        vertical-align: middle;\n",
       "    }\n",
       "\n",
       "    .dataframe tbody tr th {\n",
       "        vertical-align: top;\n",
       "    }\n",
       "\n",
       "    .dataframe thead th {\n",
       "        text-align: right;\n",
       "    }\n",
       "</style>\n",
       "<table border=\"1\" class=\"dataframe\">\n",
       "  <thead>\n",
       "    <tr style=\"text-align: right;\">\n",
       "      <th></th>\n",
       "      <th>age</th>\n",
       "      <th>sex</th>\n",
       "      <th>bmi</th>\n",
       "      <th>children</th>\n",
       "      <th>smoker</th>\n",
       "      <th>region_northeast</th>\n",
       "      <th>region_northwest</th>\n",
       "      <th>region_southeast</th>\n",
       "      <th>region_southwest</th>\n",
       "    </tr>\n",
       "  </thead>\n",
       "  <tbody>\n",
       "    <tr>\n",
       "      <th>0</th>\n",
       "      <td>19</td>\n",
       "      <td>0</td>\n",
       "      <td>27.900</td>\n",
       "      <td>0</td>\n",
       "      <td>1</td>\n",
       "      <td>0</td>\n",
       "      <td>0</td>\n",
       "      <td>0</td>\n",
       "      <td>1</td>\n",
       "    </tr>\n",
       "    <tr>\n",
       "      <th>1</th>\n",
       "      <td>18</td>\n",
       "      <td>1</td>\n",
       "      <td>33.770</td>\n",
       "      <td>1</td>\n",
       "      <td>0</td>\n",
       "      <td>0</td>\n",
       "      <td>0</td>\n",
       "      <td>1</td>\n",
       "      <td>0</td>\n",
       "    </tr>\n",
       "    <tr>\n",
       "      <th>2</th>\n",
       "      <td>28</td>\n",
       "      <td>1</td>\n",
       "      <td>33.000</td>\n",
       "      <td>3</td>\n",
       "      <td>0</td>\n",
       "      <td>0</td>\n",
       "      <td>0</td>\n",
       "      <td>1</td>\n",
       "      <td>0</td>\n",
       "    </tr>\n",
       "    <tr>\n",
       "      <th>3</th>\n",
       "      <td>33</td>\n",
       "      <td>1</td>\n",
       "      <td>22.705</td>\n",
       "      <td>0</td>\n",
       "      <td>0</td>\n",
       "      <td>0</td>\n",
       "      <td>1</td>\n",
       "      <td>0</td>\n",
       "      <td>0</td>\n",
       "    </tr>\n",
       "    <tr>\n",
       "      <th>4</th>\n",
       "      <td>32</td>\n",
       "      <td>1</td>\n",
       "      <td>28.880</td>\n",
       "      <td>0</td>\n",
       "      <td>0</td>\n",
       "      <td>0</td>\n",
       "      <td>1</td>\n",
       "      <td>0</td>\n",
       "      <td>0</td>\n",
       "    </tr>\n",
       "  </tbody>\n",
       "</table>\n",
       "</div>"
      ],
      "text/plain": [
       "   age  sex     bmi  children  smoker  region_northeast  region_northwest  \\\n",
       "0   19    0  27.900         0       1                 0                 0   \n",
       "1   18    1  33.770         1       0                 0                 0   \n",
       "2   28    1  33.000         3       0                 0                 0   \n",
       "3   33    1  22.705         0       0                 0                 1   \n",
       "4   32    1  28.880         0       0                 0                 1   \n",
       "\n",
       "   region_southeast  region_southwest  \n",
       "0                 0                 1  \n",
       "1                 1                 0  \n",
       "2                 1                 0  \n",
       "3                 0                 0  \n",
       "4                 0                 0  "
      ]
     },
     "execution_count": 87,
     "metadata": {},
     "output_type": "execute_result"
    }
   ],
   "source": [
    "#independent var\n",
    "x=data_main.drop(columns=['charges'],axis=1)\n",
    "x.head()"
   ]
  },
  {
   "cell_type": "markdown",
   "id": "751f1ec6",
   "metadata": {},
   "source": [
    "# scaling"
   ]
  },
  {
   "cell_type": "code",
   "execution_count": 89,
   "id": "dd7a019d",
   "metadata": {},
   "outputs": [
    {
     "data": {
      "text/plain": [
       "Index(['age', 'sex', 'bmi', 'children', 'smoker', 'region_northeast',\n",
       "       'region_northwest', 'region_southeast', 'region_southwest'],\n",
       "      dtype='object')"
      ]
     },
     "execution_count": 89,
     "metadata": {},
     "output_type": "execute_result"
    }
   ],
   "source": [
    "names=x.columns\n",
    "names"
   ]
  },
  {
   "cell_type": "code",
   "execution_count": 90,
   "id": "a531f9c3",
   "metadata": {},
   "outputs": [],
   "source": [
    "from sklearn.preprocessing import scale"
   ]
  },
  {
   "cell_type": "code",
   "execution_count": 91,
   "id": "ae22553b",
   "metadata": {},
   "outputs": [],
   "source": [
    "x=scale(x)"
   ]
  },
  {
   "cell_type": "code",
   "execution_count": 92,
   "id": "1cbfeecf",
   "metadata": {},
   "outputs": [
    {
     "data": {
      "text/plain": [
       "array([[-1.43876426, -1.0105187 , -0.43951908, ..., -0.56641788,\n",
       "        -0.61132367,  1.76548098],\n",
       "       [-1.50996545,  0.98959079,  0.58590685, ..., -0.56641788,\n",
       "         1.63579466, -0.56641788],\n",
       "       [-0.79795355,  0.98959079,  0.45139612, ..., -0.56641788,\n",
       "         1.63579466, -0.56641788],\n",
       "       ...,\n",
       "       [-1.50996545, -1.0105187 ,  1.12394975, ..., -0.56641788,\n",
       "         1.63579466, -0.56641788],\n",
       "       [-1.29636188, -1.0105187 , -0.80636652, ..., -0.56641788,\n",
       "        -0.61132367,  1.76548098],\n",
       "       [ 1.55168573, -1.0105187 , -0.23513265, ...,  1.76548098,\n",
       "        -0.61132367, -0.56641788]])"
      ]
     },
     "execution_count": 92,
     "metadata": {},
     "output_type": "execute_result"
    }
   ],
   "source": [
    "x"
   ]
  },
  {
   "cell_type": "code",
   "execution_count": 93,
   "id": "022e6cf5",
   "metadata": {},
   "outputs": [
    {
     "data": {
      "text/plain": [
       "-7.24290988328785e-17"
      ]
     },
     "execution_count": 93,
     "metadata": {},
     "output_type": "execute_result"
    }
   ],
   "source": [
    "x.mean()"
   ]
  },
  {
   "cell_type": "code",
   "execution_count": 94,
   "id": "6ffda8f8",
   "metadata": {},
   "outputs": [
    {
     "data": {
      "text/plain": [
       "1.0"
      ]
     },
     "execution_count": 94,
     "metadata": {},
     "output_type": "execute_result"
    }
   ],
   "source": [
    "x.std()"
   ]
  },
  {
   "cell_type": "code",
   "execution_count": 100,
   "id": "b7d31565",
   "metadata": {},
   "outputs": [
    {
     "data": {
      "text/plain": [
       "(1338, 10)"
      ]
     },
     "execution_count": 100,
     "metadata": {},
     "output_type": "execute_result"
    }
   ],
   "source": [
    "data_main.shape"
   ]
  },
  {
   "cell_type": "markdown",
   "id": "ddfcd775",
   "metadata": {},
   "source": [
    "# splitting the data into train and test"
   ]
  },
  {
   "cell_type": "code",
   "execution_count": 95,
   "id": "b3dd740d",
   "metadata": {},
   "outputs": [],
   "source": [
    "from sklearn.model_selection import train_test_split"
   ]
  },
  {
   "cell_type": "code",
   "execution_count": 96,
   "id": "4a3d2f0b",
   "metadata": {},
   "outputs": [],
   "source": [
    "x_train,x_test,y_train,y_test=train_test_split(x,y,test_size=0.2,random_state=0)"
   ]
  },
  {
   "cell_type": "code",
   "execution_count": 98,
   "id": "921d6ea2",
   "metadata": {},
   "outputs": [
    {
     "data": {
      "text/plain": [
       "(1070, 9)"
      ]
     },
     "execution_count": 98,
     "metadata": {},
     "output_type": "execute_result"
    }
   ],
   "source": [
    "x_train.shape"
   ]
  },
  {
   "cell_type": "code",
   "execution_count": 101,
   "id": "296dbe39",
   "metadata": {},
   "outputs": [
    {
     "data": {
      "text/plain": [
       "(268, 9)"
      ]
     },
     "execution_count": 101,
     "metadata": {},
     "output_type": "execute_result"
    }
   ],
   "source": [
    "x_test.shape"
   ]
  },
  {
   "cell_type": "code",
   "execution_count": 104,
   "id": "9a864690",
   "metadata": {},
   "outputs": [
    {
     "data": {
      "text/plain": [
       "(1070,)"
      ]
     },
     "execution_count": 104,
     "metadata": {},
     "output_type": "execute_result"
    }
   ],
   "source": [
    "y_train.shape"
   ]
  },
  {
   "cell_type": "code",
   "execution_count": 105,
   "id": "773dee14",
   "metadata": {},
   "outputs": [
    {
     "data": {
      "text/plain": [
       "(268,)"
      ]
     },
     "execution_count": 105,
     "metadata": {},
     "output_type": "execute_result"
    }
   ],
   "source": [
    "y_test.shape"
   ]
  },
  {
   "cell_type": "code",
   "execution_count": null,
   "id": "301c4112",
   "metadata": {},
   "outputs": [],
   "source": []
  },
  {
   "cell_type": "code",
   "execution_count": null,
   "id": "70270daa",
   "metadata": {},
   "outputs": [],
   "source": []
  },
  {
   "cell_type": "code",
   "execution_count": null,
   "id": "68007077",
   "metadata": {},
   "outputs": [],
   "source": []
  },
  {
   "cell_type": "code",
   "execution_count": null,
   "id": "37be4b6d",
   "metadata": {},
   "outputs": [],
   "source": []
  },
  {
   "cell_type": "code",
   "execution_count": null,
   "id": "e5fd2199",
   "metadata": {},
   "outputs": [],
   "source": []
  }
 ],
 "metadata": {
  "kernelspec": {
   "display_name": "Python 3 (ipykernel)",
   "language": "python",
   "name": "python3"
  },
  "language_info": {
   "codemirror_mode": {
    "name": "ipython",
    "version": 3
   },
   "file_extension": ".py",
   "mimetype": "text/x-python",
   "name": "python",
   "nbconvert_exporter": "python",
   "pygments_lexer": "ipython3",
   "version": "3.9.7"
  }
 },
 "nbformat": 4,
 "nbformat_minor": 5
}
